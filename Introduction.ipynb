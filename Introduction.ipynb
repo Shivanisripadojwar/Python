{
 "cells": [
  {
   "cell_type": "code",
   "execution_count": 1,
   "id": "7529470b",
   "metadata": {},
   "outputs": [
    {
     "name": "stdout",
     "output_type": "stream",
     "text": [
      "Hello World!\n"
     ]
    }
   ],
   "source": [
    "print(\"Hello World!\")"
   ]
  },
  {
   "cell_type": "code",
   "execution_count": 2,
   "id": "6dba0186",
   "metadata": {},
   "outputs": [
    {
     "name": "stdout",
     "output_type": "stream",
     "text": [
      "0\n"
     ]
    }
   ],
   "source": [
    "print(1-1)"
   ]
  },
  {
   "cell_type": "code",
   "execution_count": 3,
   "id": "a4997647",
   "metadata": {},
   "outputs": [
    {
     "data": {
      "text/plain": [
       "5"
      ]
     },
     "execution_count": 3,
     "metadata": {},
     "output_type": "execute_result"
    }
   ],
   "source": [
    "1+4"
   ]
  },
  {
   "cell_type": "code",
   "execution_count": 4,
   "id": "835b6752",
   "metadata": {},
   "outputs": [
    {
     "name": "stdout",
     "output_type": "stream",
     "text": [
      "10\n"
     ]
    }
   ],
   "source": [
    "#sum of 2 numbers\n",
    "print(1+9)"
   ]
  },
  {
   "cell_type": "code",
   "execution_count": 5,
   "id": "0e807183",
   "metadata": {},
   "outputs": [
    {
     "name": "stdout",
     "output_type": "stream",
     "text": [
      "25 5L Shivani\n"
     ]
    }
   ],
   "source": [
    "age=25\n",
    "salary=\"5L\"\n",
    "name=\"Shivani\"\n",
    "print(age, salary, name)"
   ]
  },
  {
   "cell_type": "code",
   "execution_count": 6,
   "id": "df7dd976",
   "metadata": {},
   "outputs": [
    {
     "data": {
      "text/plain": [
       "int"
      ]
     },
     "execution_count": 6,
     "metadata": {},
     "output_type": "execute_result"
    }
   ],
   "source": [
    "type(3)"
   ]
  },
  {
   "cell_type": "code",
   "execution_count": 7,
   "id": "d4a148b0",
   "metadata": {},
   "outputs": [
    {
     "data": {
      "text/plain": [
       "str"
      ]
     },
     "execution_count": 7,
     "metadata": {},
     "output_type": "execute_result"
    }
   ],
   "source": [
    "type(\"shivani\")"
   ]
  },
  {
   "cell_type": "code",
   "execution_count": 8,
   "id": "cd3af058",
   "metadata": {},
   "outputs": [
    {
     "data": {
      "text/plain": [
       "bool"
      ]
     },
     "execution_count": 8,
     "metadata": {},
     "output_type": "execute_result"
    }
   ],
   "source": [
    "type(True)\n"
   ]
  },
  {
   "cell_type": "code",
   "execution_count": 9,
   "id": "42f21c9d",
   "metadata": {},
   "outputs": [
    {
     "data": {
      "text/plain": [
       "float"
      ]
     },
     "execution_count": 9,
     "metadata": {},
     "output_type": "execute_result"
    }
   ],
   "source": [
    "type(9.0)"
   ]
  },
  {
   "cell_type": "code",
   "execution_count": 10,
   "id": "ce191dc0",
   "metadata": {},
   "outputs": [
    {
     "data": {
      "text/plain": [
       "dict"
      ]
     },
     "execution_count": 10,
     "metadata": {},
     "output_type": "execute_result"
    }
   ],
   "source": [
    "type({1:\"shivani\", 2: \"Sripadojwar\"})"
   ]
  },
  {
   "cell_type": "code",
   "execution_count": 11,
   "id": "78b4de47",
   "metadata": {},
   "outputs": [
    {
     "data": {
      "text/plain": [
       "list"
      ]
     },
     "execution_count": 11,
     "metadata": {},
     "output_type": "execute_result"
    }
   ],
   "source": [
    "type([\"shivani\",\"sripadojwar\"])"
   ]
  },
  {
   "cell_type": "code",
   "execution_count": 12,
   "id": "52cc893f",
   "metadata": {},
   "outputs": [
    {
     "data": {
      "text/plain": [
       "tuple"
      ]
     },
     "execution_count": 12,
     "metadata": {},
     "output_type": "execute_result"
    }
   ],
   "source": [
    "type((1,2,3,4,))"
   ]
  },
  {
   "cell_type": "code",
   "execution_count": 13,
   "id": "16bf2889",
   "metadata": {},
   "outputs": [
    {
     "data": {
      "text/plain": [
       "set"
      ]
     },
     "execution_count": 13,
     "metadata": {},
     "output_type": "execute_result"
    }
   ],
   "source": [
    "type({3,4,5,6})"
   ]
  },
  {
   "cell_type": "code",
   "execution_count": 14,
   "id": "92aec855",
   "metadata": {},
   "outputs": [
    {
     "data": {
      "text/plain": [
       "complex"
      ]
     },
     "execution_count": 14,
     "metadata": {},
     "output_type": "execute_result"
    }
   ],
   "source": [
    "type(3+5j)"
   ]
  },
  {
   "cell_type": "code",
   "execution_count": 15,
   "id": "cff2bed8",
   "metadata": {},
   "outputs": [
    {
     "data": {
      "text/plain": [
       "9"
      ]
     },
     "execution_count": 15,
     "metadata": {},
     "output_type": "execute_result"
    }
   ],
   "source": [
    "a=3\n",
    "b=2\n",
    "a+6"
   ]
  },
  {
   "cell_type": "code",
   "execution_count": 16,
   "id": "d7f6c4ac",
   "metadata": {},
   "outputs": [
    {
     "data": {
      "text/plain": [
       "1"
      ]
     },
     "execution_count": 16,
     "metadata": {},
     "output_type": "execute_result"
    }
   ],
   "source": [
    "a-b\n"
   ]
  },
  {
   "cell_type": "code",
   "execution_count": 17,
   "id": "ea98e76e",
   "metadata": {},
   "outputs": [
    {
     "data": {
      "text/plain": [
       "1.5"
      ]
     },
     "execution_count": 17,
     "metadata": {},
     "output_type": "execute_result"
    }
   ],
   "source": [
    "a/b\n"
   ]
  },
  {
   "cell_type": "code",
   "execution_count": 18,
   "id": "b9f9f1e6",
   "metadata": {},
   "outputs": [
    {
     "data": {
      "text/plain": [
       "9"
      ]
     },
     "execution_count": 18,
     "metadata": {},
     "output_type": "execute_result"
    }
   ],
   "source": [
    "a**b\n"
   ]
  },
  {
   "cell_type": "code",
   "execution_count": 19,
   "id": "3553b757",
   "metadata": {},
   "outputs": [
    {
     "data": {
      "text/plain": [
       "1"
      ]
     },
     "execution_count": 19,
     "metadata": {},
     "output_type": "execute_result"
    }
   ],
   "source": [
    "a%b"
   ]
  },
  {
   "cell_type": "code",
   "execution_count": 20,
   "id": "a4506486",
   "metadata": {},
   "outputs": [
    {
     "name": "stdout",
     "output_type": "stream",
     "text": [
      "False\n"
     ]
    }
   ],
   "source": [
    "a=True\n",
    "b=False\n",
    "print(a and b)"
   ]
  },
  {
   "cell_type": "code",
   "execution_count": 21,
   "id": "696a55aa",
   "metadata": {},
   "outputs": [
    {
     "name": "stdout",
     "output_type": "stream",
     "text": [
      "True\n"
     ]
    }
   ],
   "source": [
    "print(a or b)"
   ]
  },
  {
   "cell_type": "code",
   "execution_count": 22,
   "id": "b032e193",
   "metadata": {},
   "outputs": [
    {
     "data": {
      "text/plain": [
       "True"
      ]
     },
     "execution_count": 22,
     "metadata": {},
     "output_type": "execute_result"
    }
   ],
   "source": [
    "True and True"
   ]
  },
  {
   "cell_type": "code",
   "execution_count": 23,
   "id": "130b8bbd",
   "metadata": {},
   "outputs": [
    {
     "data": {
      "text/plain": [
       "False"
      ]
     },
     "execution_count": 23,
     "metadata": {},
     "output_type": "execute_result"
    }
   ],
   "source": [
    "True and False"
   ]
  },
  {
   "cell_type": "code",
   "execution_count": 24,
   "id": "eb439b6c",
   "metadata": {},
   "outputs": [
    {
     "data": {
      "text/plain": [
       "False"
      ]
     },
     "execution_count": 24,
     "metadata": {},
     "output_type": "execute_result"
    }
   ],
   "source": [
    "False and False"
   ]
  },
  {
   "cell_type": "code",
   "execution_count": 25,
   "id": "ad62eb17",
   "metadata": {},
   "outputs": [
    {
     "data": {
      "text/plain": [
       "False"
      ]
     },
     "execution_count": 25,
     "metadata": {},
     "output_type": "execute_result"
    }
   ],
   "source": [
    "False and True"
   ]
  },
  {
   "cell_type": "code",
   "execution_count": 26,
   "id": "97c11264",
   "metadata": {},
   "outputs": [
    {
     "data": {
      "text/plain": [
       "True"
      ]
     },
     "execution_count": 26,
     "metadata": {},
     "output_type": "execute_result"
    }
   ],
   "source": [
    "True or True"
   ]
  },
  {
   "cell_type": "code",
   "execution_count": 27,
   "id": "41b54992",
   "metadata": {},
   "outputs": [
    {
     "data": {
      "text/plain": [
       "True"
      ]
     },
     "execution_count": 27,
     "metadata": {},
     "output_type": "execute_result"
    }
   ],
   "source": [
    "True or False"
   ]
  },
  {
   "cell_type": "code",
   "execution_count": 28,
   "id": "d9e82941",
   "metadata": {},
   "outputs": [
    {
     "data": {
      "text/plain": [
       "False"
      ]
     },
     "execution_count": 28,
     "metadata": {},
     "output_type": "execute_result"
    }
   ],
   "source": [
    "False or False"
   ]
  },
  {
   "cell_type": "code",
   "execution_count": 29,
   "id": "8e1c92e7",
   "metadata": {},
   "outputs": [
    {
     "data": {
      "text/plain": [
       "True"
      ]
     },
     "execution_count": 29,
     "metadata": {},
     "output_type": "execute_result"
    }
   ],
   "source": [
    "False or True"
   ]
  },
  {
   "cell_type": "code",
   "execution_count": 30,
   "id": "bf07f27c",
   "metadata": {},
   "outputs": [],
   "source": [
    "my_name=\"Shivani\""
   ]
  },
  {
   "cell_type": "code",
   "execution_count": 31,
   "id": "722f9fe8",
   "metadata": {},
   "outputs": [
    {
     "name": "stdout",
     "output_type": "stream",
     "text": [
      "Shivani\n",
      "shivani\n"
     ]
    }
   ],
   "source": [
    "print(my_name.capitalize())\n",
    "print(my_name.casefold())"
   ]
  },
  {
   "cell_type": "code",
   "execution_count": 32,
   "id": "52375e4e",
   "metadata": {},
   "outputs": [
    {
     "name": "stdout",
     "output_type": "stream",
     "text": [
      "Shivani\n"
     ]
    }
   ],
   "source": [
    "print(my_name.format())"
   ]
  },
  {
   "cell_type": "code",
   "execution_count": 33,
   "id": "16b66a35",
   "metadata": {},
   "outputs": [
    {
     "name": "stdout",
     "output_type": "stream",
     "text": [
      "9\n"
     ]
    }
   ],
   "source": [
    "c=4\n",
    "d=5\n",
    "c+=d\n",
    "print(c)"
   ]
  },
  {
   "cell_type": "code",
   "execution_count": 34,
   "id": "2c078a0f",
   "metadata": {},
   "outputs": [
    {
     "name": "stdout",
     "output_type": "stream",
     "text": [
      "4\n"
     ]
    }
   ],
   "source": [
    "c-=d\n",
    "print(c)"
   ]
  },
  {
   "cell_type": "code",
   "execution_count": 35,
   "id": "acf1e889",
   "metadata": {},
   "outputs": [
    {
     "name": "stdout",
     "output_type": "stream",
     "text": [
      "5\n"
     ]
    }
   ],
   "source": [
    "c=c|d\n",
    "print(c)"
   ]
  },
  {
   "cell_type": "code",
   "execution_count": 36,
   "id": "7f3f93d9",
   "metadata": {},
   "outputs": [
    {
     "name": "stdout",
     "output_type": "stream",
     "text": [
      "5\n"
     ]
    }
   ],
   "source": [
    "c=c&d\n",
    "print(c)"
   ]
  },
  {
   "cell_type": "raw",
   "id": "35ed8c22",
   "metadata": {},
   "source": [
    "# If else-executes if condition is true and doesn't when it is false"
   ]
  },
  {
   "cell_type": "code",
   "execution_count": 37,
   "id": "86a3b402",
   "metadata": {},
   "outputs": [
    {
     "name": "stdout",
     "output_type": "stream",
     "text": [
      "False\n"
     ]
    }
   ],
   "source": [
    "i=10\n",
    "if i>30:\n",
    "    print(\"True\")\n",
    "else:\n",
    "    print(\"False\")"
   ]
  },
  {
   "cell_type": "code",
   "execution_count": 38,
   "id": "31b5180d",
   "metadata": {},
   "outputs": [
    {
     "name": "stdout",
     "output_type": "stream",
     "text": [
      "enter3\n",
      "enter4\n",
      "enter6\n",
      "no\n"
     ]
    }
   ],
   "source": [
    "x=input(\"enter\")\n",
    "y=input(\"enter\")\n",
    "z=input(\"enter\")\n",
    "if x>y:\n",
    "    print(\"yes\")\n",
    "elif x<y:\n",
    "    print(\"no\")\n",
    "elif x==y:\n",
    "    print(\"equal\")\n",
    "else:\n",
    "    print(\"invalid\")"
   ]
  },
  {
   "cell_type": "raw",
   "id": "bb8a5991",
   "metadata": {},
   "source": [
    "For Loop- iterating over sequence of elements."
   ]
  },
  {
   "cell_type": "code",
   "execution_count": 39,
   "id": "ee40bbc5",
   "metadata": {},
   "outputs": [
    {
     "name": "stdout",
     "output_type": "stream",
     "text": [
      "S\n",
      "h\n",
      "i\n",
      "v\n",
      "a\n",
      "n\n",
      "i\n"
     ]
    }
   ],
   "source": [
    "new=\"Shivani\"\n",
    "for i in new:\n",
    "    print(i)"
   ]
  },
  {
   "cell_type": "code",
   "execution_count": 40,
   "id": "50a828bf",
   "metadata": {},
   "outputs": [
    {
     "name": "stdout",
     "output_type": "stream",
     "text": [
      "1\n",
      "2\n",
      "3\n",
      "4\n",
      "5\n",
      "6\n",
      "7\n",
      "8\n"
     ]
    }
   ],
   "source": [
    "new1=1,2,3,4,5,6,7,8\n",
    "for i in new1:\n",
    "    print(i)"
   ]
  },
  {
   "cell_type": "code",
   "execution_count": 41,
   "id": "9bbba670",
   "metadata": {},
   "outputs": [
    {
     "name": "stdout",
     "output_type": "stream",
     "text": [
      "Hi 0\n",
      "Hi 1\n",
      "Hi 2\n",
      "Hi 3\n",
      "Hi 4\n"
     ]
    }
   ],
   "source": [
    "i=0 #initialize\n",
    "\n",
    "while i<5: #condition\n",
    "    print(\"Hi\",i)\n",
    "    \n",
    "    i=i+1 #increment/decrement"
   ]
  },
  {
   "cell_type": "code",
   "execution_count": 42,
   "id": "a80801f8",
   "metadata": {},
   "outputs": [
    {
     "name": "stdout",
     "output_type": "stream",
     "text": [
      "hello\n",
      "hello\n",
      "hello\n",
      "hello\n",
      "hello\n"
     ]
    }
   ],
   "source": [
    "i=5\n",
    "while i>0:\n",
    "    print(\"hello\")\n",
    "    i=i-1"
   ]
  },
  {
   "cell_type": "code",
   "execution_count": 43,
   "id": "3e1130ca",
   "metadata": {},
   "outputs": [
    {
     "name": "stdout",
     "output_type": "stream",
     "text": [
      "0\n",
      "1\n",
      "2\n",
      "3\n",
      "4\n",
      "5\n",
      "6\n",
      "7\n",
      "8\n",
      "9\n"
     ]
    }
   ],
   "source": [
    "for i in range(10):\n",
    "    print(i)"
   ]
  },
  {
   "cell_type": "code",
   "execution_count": 44,
   "id": "13feb2da",
   "metadata": {},
   "outputs": [
    {
     "name": "stdout",
     "output_type": "stream",
     "text": [
      "The sum is: 50\n",
      "True\n"
     ]
    }
   ],
   "source": [
    "def add():  \n",
    "    # Defining local variables. They has scope only within a function  \n",
    "    a = 20  \n",
    "    b = 30  \n",
    "    c = a + b  \n",
    "    print(\"The sum is:\", c)  \n",
    "  \n",
    "# Calling a function  \n",
    "add()  \n",
    "print(a)"
   ]
  },
  {
   "cell_type": "code",
   "execution_count": 45,
   "id": "4d35ec59",
   "metadata": {},
   "outputs": [
    {
     "name": "stdout",
     "output_type": "stream",
     "text": [
      "The sum is: 50\n",
      "60\n"
     ]
    }
   ],
   "source": [
    "x=60\n",
    "def add():  \n",
    "    # Defining local variables. They has scope only within a function  \n",
    "    a = 20  \n",
    "    b = 30  \n",
    "    c = a + b  \n",
    "    print(\"The sum is:\", c)  \n",
    "  \n",
    "# Calling a function  \n",
    "add()  \n",
    "print(x)"
   ]
  },
  {
   "cell_type": "code",
   "execution_count": 46,
   "id": "d6f4da2a",
   "metadata": {},
   "outputs": [
    {
     "name": "stdout",
     "output_type": "stream",
     "text": [
      "0 yes\n",
      "1 yes\n",
      "2 yes\n",
      "3 yes\n",
      "4 yes\n",
      "5 yes\n",
      "6 yes\n",
      "7 yes\n",
      "8 yes\n",
      "9 yes\n",
      "10 valid\n"
     ]
    }
   ],
   "source": [
    "# Purpose: The break statement is used to exit a loop immediately.\n",
    "# Usage: Can be used in both for and while loops, including nested loops.\n",
    "# Control Flow: Transfers control to the statement immediately following the loop.\n",
    "# Common Use Cases: Often used when a specific condition is met, such as finding an element, user input, or reaching a specific value.\n",
    "for i in range(10):\n",
    "    if i<15:\n",
    "        print(i,\"yes\")\n",
    "        i=i+1\n",
    "#         break\n",
    "print(i,\"valid\")"
   ]
  },
  {
   "cell_type": "code",
   "execution_count": 47,
   "id": "3ae181a1",
   "metadata": {},
   "outputs": [
    {
     "name": "stdout",
     "output_type": "stream",
     "text": [
      "0\n",
      "1\n",
      "2\n",
      "3\n",
      "4\n",
      "Loop terminated\n"
     ]
    }
   ],
   "source": [
    "i = 0\n",
    "while i < 10:\n",
    "    if i == 5:\n",
    "        break  # Exit the loop when i equals 5\n",
    "    print(i)\n",
    "    i += 1\n",
    "print(\"Loop terminated\")"
   ]
  },
  {
   "cell_type": "code",
   "execution_count": 48,
   "id": "a56596cc",
   "metadata": {},
   "outputs": [
    {
     "ename": "SyntaxError",
     "evalue": "'break' outside loop (2613911481.py, line 3)",
     "output_type": "error",
     "traceback": [
      "\u001b[1;36m  Cell \u001b[1;32mIn[48], line 3\u001b[1;36m\u001b[0m\n\u001b[1;33m    break  # Exit the loop when i equals 5\u001b[0m\n\u001b[1;37m    ^\u001b[0m\n\u001b[1;31mSyntaxError\u001b[0m\u001b[1;31m:\u001b[0m 'break' outside loop\n"
     ]
    }
   ],
   "source": [
    "i=0\n",
    "if i == 5:\n",
    "        break  # Exit the loop when i equals 5\n",
    "print(i)\n",
    "i += 1"
   ]
  },
  {
   "cell_type": "code",
   "execution_count": null,
   "id": "1d3e5533",
   "metadata": {},
   "outputs": [],
   "source": [
    "# Prompt the user to enter the first number\n",
    "number = int(input('Enter a number: '))\n",
    "\n",
    "# Initialize the total sum to 0\n",
    "total = 0\n",
    "\n",
    "# Iterate until the user enters 0\n",
    "while number != 0:\n",
    "    # Add the entered number to the total sum\n",
    "    total += number\n",
    "    \n",
    "    # Prompt the user to enter the next number\n",
    "    number = int(input('Enter a number: '))\n",
    "\n",
    "# Print the total sum once the loop terminates\n",
    "print('The sum is', total)\n"
   ]
  },
  {
   "cell_type": "code",
   "execution_count": null,
   "id": "3d379c58",
   "metadata": {},
   "outputs": [],
   "source": [
    "x=int(input(\"enter:\")) \n",
    "i=1\n",
    "for i in range(x):\n",
    "    if i<5:\n",
    "        print(1,\"candy\")\n",
    "    break\n",
    "print(\"out of stock\")\n",
    "    "
   ]
  },
  {
   "cell_type": "code",
   "execution_count": 66,
   "id": "8d1506fb",
   "metadata": {},
   "outputs": [
    {
     "name": "stdout",
     "output_type": "stream",
     "text": [
      "enter:5\n",
      "1 candy\n",
      "2 candy\n",
      "3 candy\n",
      "4 candy\n",
      "5 candy\n",
      "bye\n"
     ]
    }
   ],
   "source": [
    "av=10\n",
    "x= int(input(\"enter:\"))\n",
    "i=1\n",
    "for i in range(1,x+1): \n",
    "    if i>av:\n",
    "        print(\"out of stock\")\n",
    "        break\n",
    "    print(i,\"candy\")\n",
    "    \n",
    "print(\"bye\")"
   ]
  },
  {
   "cell_type": "code",
   "execution_count": 65,
   "id": "64591d44",
   "metadata": {},
   "outputs": [
    {
     "name": "stdout",
     "output_type": "stream",
     "text": [
      "Enter the number of candies you want: 50\n",
      "1 candy\n",
      "2 candy\n",
      "3 candy\n",
      "4 candy\n",
      "5 candy\n",
      "6 candy\n",
      "7 candy\n",
      "8 candy\n",
      "9 candy\n",
      "10 candy\n",
      "out of stock\n",
      "bye\n"
     ]
    }
   ],
   "source": [
    "available_candies = 10\n",
    "\n",
    "# Input: Number of candies the user wants\n",
    "x = int(input(\"Enter the number of candies you want: \"))\n",
    "\n",
    "# Loop through the range up to the user's requested number of candies\n",
    "for i in range(1, x + 1):\n",
    "    if i > available_candies:\n",
    "        print(\"out of stock\")\n",
    "        break\n",
    "    print(i, \"candy\")\n",
    "\n",
    "print(\"bye\")"
   ]
  },
  {
   "cell_type": "code",
   "execution_count": 73,
   "id": "a1d458aa",
   "metadata": {},
   "outputs": [
    {
     "name": "stdout",
     "output_type": "stream",
     "text": [
      "1\n",
      "3\n",
      "5\n",
      "7\n",
      "9\n",
      "11\n",
      "13\n",
      "15\n",
      "17\n",
      "19\n",
      "21\n",
      "23\n",
      "25\n",
      "27\n",
      "29\n",
      "31\n",
      "33\n",
      "35\n",
      "37\n",
      "39\n",
      "41\n",
      "43\n",
      "45\n",
      "47\n",
      "49\n"
     ]
    }
   ],
   "source": [
    "# The continue statement is useful when you want to skip certain conditions within a loop without terminating the loop entirely. \n",
    "# It's often used to filter out specific values or conditions, allowing the loop to proceed to the next iteration.\n",
    "\n",
    "for i in range(1,50):\n",
    "    if i%2==0:\n",
    "        continue\n",
    "    print(i)"
   ]
  },
  {
   "cell_type": "code",
   "execution_count": 71,
   "id": "4d910fae",
   "metadata": {},
   "outputs": [
    {
     "name": "stdout",
     "output_type": "stream",
     "text": [
      "Odd numbers:\n",
      "1\n",
      "3\n",
      "5\n",
      "7\n",
      "9\n"
     ]
    }
   ],
   "source": [
    "numbers = [1, 2, 3, 4, 5, 6, 7, 8, 9, 10]\n",
    "\n",
    "print(\"Odd numbers:\")\n",
    "for num in numbers:\n",
    "    if num % 2 == 0:\n",
    "        continue  # Skip even numbers\n",
    "    print(num)\n"
   ]
  },
  {
   "cell_type": "code",
   "execution_count": 78,
   "id": "db00e298",
   "metadata": {},
   "outputs": [
    {
     "name": "stdout",
     "output_type": "stream",
     "text": [
      "H\n",
      "l\n",
      "l\n",
      " \n",
      "w\n",
      "r\n",
      "l\n",
      "d\n"
     ]
    }
   ],
   "source": [
    "str=\"Hello world\"\n",
    "for s in str:\n",
    "    if s in 'aeiou':\n",
    "        continue\n",
    "    print(s)"
   ]
  },
  {
   "cell_type": "code",
   "execution_count": 80,
   "id": "5b34b0af",
   "metadata": {},
   "outputs": [
    {
     "name": "stdout",
     "output_type": "stream",
     "text": [
      "e\n",
      "o\n",
      "o\n"
     ]
    }
   ],
   "source": [
    "str=\"Hello world\"\n",
    "for s in str:\n",
    "    if s not in'aeiou':\n",
    "        continue\n",
    "    print(s)"
   ]
  },
  {
   "cell_type": "code",
   "execution_count": 81,
   "id": "9bcfd0d9",
   "metadata": {},
   "outputs": [
    {
     "name": "stdout",
     "output_type": "stream",
     "text": [
      "String without vowels:\n",
      "hll wrld"
     ]
    }
   ],
   "source": [
    "string = \"hello world\"\n",
    "\n",
    "print(\"String without vowels:\")\n",
    "for char in string:\n",
    "    if char in 'aeiou':\n",
    "        continue  # Skip vowels\n",
    "    print(char, end='')"
   ]
  },
  {
   "cell_type": "code",
   "execution_count": 83,
   "id": "6faf615f",
   "metadata": {},
   "outputs": [
    {
     "ename": "SyntaxError",
     "evalue": "incomplete input (3436335136.py, line 1)",
     "output_type": "error",
     "traceback": [
      "\u001b[1;36m  Cell \u001b[1;32mIn[83], line 1\u001b[1;36m\u001b[0m\n\u001b[1;33m    def shivani():\u001b[0m\n\u001b[1;37m                  ^\u001b[0m\n\u001b[1;31mSyntaxError\u001b[0m\u001b[1;31m:\u001b[0m incomplete input\n"
     ]
    }
   ],
   "source": [
    "def shivani():"
   ]
  },
  {
   "cell_type": "code",
   "execution_count": 84,
   "id": "a3eeedb2",
   "metadata": {},
   "outputs": [],
   "source": [
    "def shivani():\n",
    "    pass"
   ]
  },
  {
   "cell_type": "code",
   "execution_count": 88,
   "id": "bcae5ffc",
   "metadata": {},
   "outputs": [
    {
     "name": "stdout",
     "output_type": "stream",
     "text": [
      "no value shivani\n",
      "no value my\n",
      "no value name\n"
     ]
    }
   ],
   "source": [
    "str={\"my\" ,\"name\", \"is\", \"shivani\"}\n",
    "for s in str:\n",
    "    if s==\"is\":\n",
    "        pass\n",
    "    else: \n",
    "        print(\"no value\",s)"
   ]
  },
  {
   "cell_type": "code",
   "execution_count": 90,
   "id": "4daf4ee1",
   "metadata": {},
   "outputs": [
    {
     "name": "stdout",
     "output_type": "stream",
     "text": [
      "my name is shivani\n"
     ]
    }
   ],
   "source": [
    "# string-immutable, indexing starts with 0 and end at n-1\n",
    "print(\"my name is {}\".format(\"shivani\"))"
   ]
  },
  {
   "cell_type": "code",
   "execution_count": 96,
   "id": "24ac11ed",
   "metadata": {},
   "outputs": [
    {
     "name": "stdout",
     "output_type": "stream",
     "text": [
      "my name is shivani\n",
      " my salary is 6000000.00\n"
     ]
    }
   ],
   "source": [
    "print(\"my name is %s\\n my salary is %.2f\"%(\"shivani\",6000000))"
   ]
  },
  {
   "cell_type": "code",
   "execution_count": 97,
   "id": "11a12bfa",
   "metadata": {},
   "outputs": [
    {
     "ename": "TypeError",
     "evalue": "not all arguments converted during string formatting",
     "output_type": "error",
     "traceback": [
      "\u001b[1;31m---------------------------------------------------------------------------\u001b[0m",
      "\u001b[1;31mTypeError\u001b[0m                                 Traceback (most recent call last)",
      "Cell \u001b[1;32mIn[97], line 1\u001b[0m\n\u001b[1;32m----> 1\u001b[0m \u001b[38;5;28mprint\u001b[39m(\u001b[38;5;124m\"\u001b[39m\u001b[38;5;124mmy name is \u001b[39m\u001b[38;5;132;01m{}\u001b[39;00m\u001b[38;5;130;01m\\n\u001b[39;00m\u001b[38;5;124m my salary is \u001b[39m\u001b[38;5;132;01m{}\u001b[39;00m\u001b[38;5;124m\"\u001b[39m\u001b[38;5;241m%\u001b[39m(\u001b[38;5;124m\"\u001b[39m\u001b[38;5;124mshivani\u001b[39m\u001b[38;5;124m\"\u001b[39m,\u001b[38;5;241m6000000\u001b[39m))\n",
      "\u001b[1;31mTypeError\u001b[0m: not all arguments converted during string formatting"
     ]
    }
   ],
   "source": [
    "print(\"my name is {}\\n my salary is {}\"%(\"shivani\",6000000))"
   ]
  },
  {
   "cell_type": "code",
   "execution_count": null,
   "id": "beb26eec",
   "metadata": {},
   "outputs": [],
   "source": []
  }
 ],
 "metadata": {
  "kernelspec": {
   "display_name": "Python 3 (ipykernel)",
   "language": "python",
   "name": "python3"
  },
  "language_info": {
   "codemirror_mode": {
    "name": "ipython",
    "version": 3
   },
   "file_extension": ".py",
   "mimetype": "text/x-python",
   "name": "python",
   "nbconvert_exporter": "python",
   "pygments_lexer": "ipython3",
   "version": "3.11.5"
  }
 },
 "nbformat": 4,
 "nbformat_minor": 5
}
