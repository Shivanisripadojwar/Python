{
 "cells": [
  {
   "cell_type": "code",
   "execution_count": 18,
   "id": "e8539d35",
   "metadata": {},
   "outputs": [
    {
     "name": "stdout",
     "output_type": "stream",
     "text": [
      "accessing: ['shivani', 'praveen', 'Tulasi']\n",
      "accessing: plum\n",
      "[['shivani', 'praveen', 'Tulasi'], 'Assassin', 'plum']\n",
      "multi dim: praveen\n",
      "range: [['shivani', 'praveen', 'Tulasi'], 'Assassin', 'plum']\n",
      "appended: [['shivani', 'praveen', 'Tulasi'], 'Assassin', 'plum', 'prasad']\n",
      "insert: [['shivani', 'praveen', 'Tulasi'], 'Assassin', 'foxtale', 'plum', 'prasad']\n",
      "reverse: None\n",
      "extended: [['shivani', 'praveen', 'Tulasi'], 'Assassin', 'foxtale', 'plum', 'prasad', 'june', 'see', 'pam', 'tam', 'sam']\n",
      "remove: [['shivani', 'praveen', 'Tulasi'], 'Assassin', 'foxtale', 'prasad', 'june', 'see', 'pam', 'tam', 'sam']\n",
      "reverse: None\n"
     ]
    }
   ],
   "source": [
    "# list: [], \n",
    "# built in datatypes, \n",
    "# ordered (defined order and will not chnge, ex: if any value added then will be at the end), \n",
    "# changeable(add,remove,change)\n",
    "# allows duplicates.\n",
    "\n",
    "# ******************************************************************************************************************\n",
    "# example: \n",
    "list=[[\"shivani\", \"praveen\",\"Tulasi\"],\"Assassin\",\"plum\"]\n",
    "list1=[\"sam\",\"tam\",\"pam\",\"see\",\"june\"]\n",
    "\n",
    "#accessing from one dim\n",
    "print(\"accessing:\",list[0])   \n",
    "print(\"accessing:\",list[-1])  \n",
    "print(list)\n",
    "\n",
    "#from multi dim\n",
    "print(\"multi dim:\",list[0][1])\n",
    "\n",
    "#ranging\n",
    "print(\"range:\",list[0:3])\n",
    "\n",
    "#adding new value it adds at end\n",
    "list.append(\"prasad\") \n",
    "print(\"appended:\",list)\n",
    "\n",
    "#adds new value to the mentioned index\n",
    "list.insert(2,\"foxtale\") \n",
    "print(\"insert:\",list) \n",
    "\n",
    "#extends: adding two list (we can add set, tuple or dict to list using this)\n",
    "list.extend(list1)\n",
    "print(\"extended:\",list)\n",
    "\n",
    "#removes values\n",
    "list.remove(\"plum\") \n",
    "print(\"remove:\",list)\n"
   ]
  },
  {
   "cell_type": "code",
   "execution_count": 21,
   "id": "e92b2d9d",
   "metadata": {},
   "outputs": [
    {
     "name": "stdout",
     "output_type": "stream",
     "text": [
      "['june', 'see', 'pam', 'tam', 'sam']\n",
      "['june', 'see', 'tam', 'sam']\n"
     ]
    }
   ],
   "source": [
    "#reverse\n",
    "list1=[\"sam\",\"tam\",\"pam\",\"see\",\"june\"]\n",
    "list1.reverse()\n",
    "print(list1)\n",
    "list1.pop(2)\n",
    "print(list1)"
   ]
  },
  {
   "cell_type": "code",
   "execution_count": 15,
   "id": "bd450a07",
   "metadata": {},
   "outputs": [
    {
     "name": "stdout",
     "output_type": "stream",
     "text": [
      "enter elements (Space Separated):shivani jagadeesh sripadojwar\n",
      "list: ['shivani', 'jagadeesh', 'sripadojwar']\n"
     ]
    }
   ],
   "source": [
    "#taking new elements\n",
    "string=input(\"enter elements (Space Separated):\")\n",
    "str1=string.split()\n",
    "print(\"list:\",str1)"
   ]
  },
  {
   "cell_type": "code",
   "execution_count": 2,
   "id": "17490967",
   "metadata": {},
   "outputs": [
    {
     "name": "stdout",
     "output_type": "stream",
     "text": [
      "indexing: ello_\n",
      "ello_goo\n",
      "negative indexing: ello_good_m\n",
      "ne: rni\n",
      "orl\n",
      "Wor\n"
     ]
    }
   ],
   "source": [
    "#slicing- not includes last element\n",
    "\n",
    "x=\"hello_good_morning\"\n",
    "print(\"indexing:\", x[1:6])\n",
    "print(x[1:9])\n",
    "print(\"negative indexing:\", x[1:-6]) #takes 1 from start and -6 from end\n",
    "print(\"ne:\", x[-5:-2]) #not printing 'o'\n",
    "b = \"Hello, World!\"\n",
    "print(b[-5:-2])\n",
    "b = \"Hello,_World\"\n",
    "print(b[-5:-2])"
   ]
  },
  {
   "cell_type": "code",
   "execution_count": 24,
   "id": "71848565",
   "metadata": {},
   "outputs": [
    {
     "name": "stdout",
     "output_type": "stream",
     "text": [
      "yes, it is in list\n"
     ]
    }
   ],
   "source": [
    "#check if items present in list\n",
    "list=['shivani', 'praveen', 'foxtale', 'Tulasi', 'Assassin', 'prasad', 'sam', 'tam', 'pam', 'see', 'june']\n",
    "if \"sam\" in list:\n",
    "    print(\"yes, it is in list\")\n",
    "else:\n",
    "    print(\"no\")\n",
    "    "
   ]
  },
  {
   "cell_type": "code",
   "execution_count": 4,
   "id": "679b7c6d",
   "metadata": {},
   "outputs": [
    {
     "name": "stdout",
     "output_type": "stream",
     "text": [
      "['shivani', 'praveen', 'foxtale', 'Tulasi', 'Assassin', 'prasad', 'sam', 'tam', 'pam', 'see', 'july']\n"
     ]
    }
   ],
   "source": [
    "#change item value\n",
    "list=['shivani', 'praveen', 'foxtale', 'Tulasi', 'Assassin', 'prasad', 'sam', 'tam', 'pam', 'see', 'june']\n",
    "list[-1]=\"july\"\n",
    "print(list)"
   ]
  },
  {
   "cell_type": "code",
   "execution_count": 5,
   "id": "6290284f",
   "metadata": {},
   "outputs": [
    {
     "name": "stdout",
     "output_type": "stream",
     "text": [
      "['shivani', 'praveen', 'foxtale', 'Tulasi', 'Assassin', 'prasad', 'april', 'may', 'pam', 'see', 'june']\n"
     ]
    }
   ],
   "source": [
    "#chnage the items in range\n",
    "list=['shivani', 'praveen', 'foxtale', 'Tulasi', 'Assassin', 'prasad', 'sam', 'tam', 'pam', 'see', 'june']\n",
    "list[6:8]=[\"april\",\"may\"]\n",
    "print(list)"
   ]
  },
  {
   "cell_type": "code",
   "execution_count": 6,
   "id": "73d7869d",
   "metadata": {},
   "outputs": [
    {
     "name": "stdout",
     "output_type": "stream",
     "text": [
      "['shivani', 'praveen', 'foxtale', 'Tulasi', 'prasad', 'sam', 'tam', 'pam', 'see', 'june']\n"
     ]
    }
   ],
   "source": [
    "#remove specified index\n",
    "list=['shivani', 'praveen', 'foxtale', 'Tulasi', 'Assassin', 'prasad', 'sam', 'tam', 'pam', 'see', 'june']\n",
    "list.pop(4)\n",
    "print(list)\n",
    "#index not specified takes out last item"
   ]
  },
  {
   "cell_type": "code",
   "execution_count": 7,
   "id": "aa99d9d5",
   "metadata": {},
   "outputs": [
    {
     "name": "stdout",
     "output_type": "stream",
     "text": [
      "<class 'list'>\n"
     ]
    }
   ],
   "source": [
    "#delete \n",
    "list=['shivani', 'praveen', 'foxtale', 'Tulasi', 'Assassin', 'prasad', 'sam', 'tam', 'pam', 'see', 'june']\n",
    "del list\n",
    "print(list)"
   ]
  },
  {
   "cell_type": "code",
   "execution_count": 8,
   "id": "ff94245f",
   "metadata": {},
   "outputs": [
    {
     "name": "stdout",
     "output_type": "stream",
     "text": [
      "[]\n"
     ]
    }
   ],
   "source": [
    "#clear\n",
    "list=['shivani', 'praveen', 'foxtale', 'Tulasi', 'Assassin', 'prasad', 'sam', 'tam', 'pam', 'see', 'june']\n",
    "list.clear()\n",
    "print(list)"
   ]
  },
  {
   "cell_type": "code",
   "execution_count": 9,
   "id": "773646ca",
   "metadata": {},
   "outputs": [
    {
     "name": "stdout",
     "output_type": "stream",
     "text": [
      "shivani\n",
      "praveen\n",
      "foxtale\n",
      "Tulasi\n",
      "Assassin\n",
      "prasad\n",
      "sam\n",
      "tam\n",
      "pam\n",
      "see\n",
      "june\n"
     ]
    }
   ],
   "source": [
    "#loop list\n",
    "list=['shivani', 'praveen', 'foxtale', 'Tulasi', 'Assassin', 'prasad', 'sam', 'tam', 'pam', 'see', 'june']\n",
    "for i in list:\n",
    "    print(i)"
   ]
  },
  {
   "cell_type": "code",
   "execution_count": 2,
   "id": "af293566",
   "metadata": {},
   "outputs": [
    {
     "name": "stdout",
     "output_type": "stream",
     "text": [
      "shivani\n",
      "praveen\n",
      "foxtale\n",
      "Tulasi\n",
      "Assassin\n",
      "prasad\n",
      "sam\n",
      "tam\n",
      "pam\n",
      "see\n",
      "june\n"
     ]
    }
   ],
   "source": [
    "list=['shivani', 'praveen', 'foxtale', 'Tulasi', 'Assassin', 'prasad', 'sam', 'tam', 'pam', 'see', 'june']\n",
    "for i in range(len(list)):\n",
    "    print(list[i])"
   ]
  },
  {
   "cell_type": "code",
   "execution_count": 11,
   "id": "d48dd571",
   "metadata": {},
   "outputs": [
    {
     "name": "stdout",
     "output_type": "stream",
     "text": [
      "['shivani', 'praveen', 'foxtale', 'Tulasi', 'Assassin', 'prasad', 'sam', 'tam', 'pam']\n"
     ]
    }
   ],
   "source": [
    "list=['shivani', 'praveen', 'foxtale', 'Tulasi', 'Assassin', 'prasad', 'sam', 'tam', 'pam', 'see', 'june']\n",
    "newlist=[]\n",
    "for i in list:\n",
    "    if \"a\" in i:\n",
    "        newlist.append(i)\n",
    "print(newlist)\n",
    "    "
   ]
  },
  {
   "cell_type": "code",
   "execution_count": 12,
   "id": "e9af108f",
   "metadata": {},
   "outputs": [
    {
     "name": "stdout",
     "output_type": "stream",
     "text": [
      "['assassin', 'foxtale', 'june', 'pam', 'prasad', 'praveen', 'sam', 'see', 'shivani', 'tam', 'tulasi']\n"
     ]
    }
   ],
   "source": [
    "list=['shivani', 'praveen', 'foxtale', 'tulasi', 'assassin', 'prasad', 'sam', 'tam', 'pam', 'see', 'june']\n",
    "list.sort()   #sort\n",
    "print(list)\n"
   ]
  },
  {
   "cell_type": "code",
   "execution_count": 13,
   "id": "9cbf8ede",
   "metadata": {},
   "outputs": [
    {
     "name": "stdout",
     "output_type": "stream",
     "text": [
      "['tulasi', 'tam', 'shivani', 'see', 'sam', 'praveen', 'prasad', 'pam', 'june', 'foxtale', 'assassin']\n"
     ]
    }
   ],
   "source": [
    "list.sort(reverse=True)  #descending order\n",
    "print(list)"
   ]
  },
  {
   "cell_type": "code",
   "execution_count": 26,
   "id": "3438aaa5",
   "metadata": {},
   "outputs": [
    {
     "name": "stdout",
     "output_type": "stream",
     "text": [
      "['shivani', 'praveen', 'foxtale', 'tulasi', 'assassin', 'prasad', 'sam', 'tam', 'pam', 'see', 'june']\n"
     ]
    }
   ],
   "source": [
    "#copy\n",
    "list=['shivani', 'praveen', 'foxtale', 'tulasi', 'assassin', 'prasad', 'sam', 'tam', 'pam', 'see', 'june']\n",
    "list1=list.copy()\n",
    "print(list1)"
   ]
  },
  {
   "cell_type": "code",
   "execution_count": 27,
   "id": "4c05190d",
   "metadata": {},
   "outputs": [
    {
     "name": "stdout",
     "output_type": "stream",
     "text": [
      "l1:  ['shivani', 'praveen', 'foxtale', 'tulasi', 'assassin', 'prasad', 'sam', 'tam', 'pam', 'see', 'june'] \n",
      "  l2:  ['shivani', 'praveen', 'foxtale', 'tulasi', 'assassin', 'prasad', 'sam', 'tam', 'pam', 'see', 'june']\n"
     ]
    }
   ],
   "source": [
    "print(\"l1: \",list, \"\\n\",  \" l2: \",list1)"
   ]
  },
  {
   "cell_type": "code",
   "execution_count": 16,
   "id": "99d0d408",
   "metadata": {},
   "outputs": [
    {
     "name": "stdout",
     "output_type": "stream",
     "text": [
      "hi my name is shivani age is 24 born in 1999\n"
     ]
    }
   ],
   "source": [
    "s=\"hi my name is {} age is {} born in {}\"   #formatting\n",
    "print(s.format(\"shivani\", 24,1999))"
   ]
  },
  {
   "cell_type": "code",
   "execution_count": 17,
   "id": "309bccb8",
   "metadata": {},
   "outputs": [
    {
     "name": "stdout",
     "output_type": "stream",
     "text": [
      "join ['shivani', 'praveen', 'foxtale', 'tulasi', 'assassin', 'prasad', 'sam', 'tam', 'pam', 'see', 'june', 1, 2, 3, 4, 5, 6, 7, 8, 9, 10]\n"
     ]
    }
   ],
   "source": [
    "#join lists\n",
    "\n",
    "list=['shivani', 'praveen', 'foxtale', 'tulasi', 'assassin', 'prasad', 'sam', 'tam', 'pam', 'see', 'june']\n",
    "list1=[1,2,3,4,5,6,7,8,9,10]\n",
    "print(\"join\", list + list1)"
   ]
  },
  {
   "cell_type": "code",
   "execution_count": 18,
   "id": "4aa14e6e",
   "metadata": {},
   "outputs": [
    {
     "name": "stdout",
     "output_type": "stream",
     "text": [
      "[1, 2, 3, 4, 5, 6, 7, 8, 9, 10, 'shivani', 'praveen', 'foxtale', 'tulasi', 'assassin', 'prasad', 'sam', 'tam', 'pam', 'see', 'june']\n"
     ]
    }
   ],
   "source": [
    "# The main difference is that \"extend\" modifies the original list, while \"concatenate\" creates a new list.\n",
    "# If you want to add elements from one list to another list, use \"extend\".\n",
    "# If you want to create a new list by combining elements from two existing lists, use \"concatenate\".\n",
    "list=['shivani', 'praveen', 'foxtale', 'tulasi', 'assassin', 'prasad', 'sam', 'tam', 'pam', 'see', 'june']\n",
    "list1=[1,2,3,4,5,6,7,8,9,10]\n",
    "list1.extend(list)\n",
    "print(list1)"
   ]
  },
  {
   "cell_type": "code",
   "execution_count": 3,
   "id": "be4dfdd2",
   "metadata": {},
   "outputs": [
    {
     "name": "stdout",
     "output_type": "stream",
     "text": [
      "[1, 2, 3, 4, 5, 6]\n"
     ]
    }
   ],
   "source": [
    "#concate\n",
    "list1 = [1, 2, 3]\n",
    "list2 = [4, 5, 6]\n",
    "concatenated_list = list1 + list2\n",
    "print(concatenated_list)  "
   ]
  },
  {
   "cell_type": "code",
   "execution_count": 19,
   "id": "68d9f4af",
   "metadata": {},
   "outputs": [
    {
     "name": "stdout",
     "output_type": "stream",
     "text": [
      "['shivani', 'praveen', 'foxtale', 'tulasi', 'assassin', 'prasad', 'sam', 'tam', 'pam', 'see', 'june', 1, 2, 3, 4, 5, 6, 7, 8, 9, 10]\n"
     ]
    }
   ],
   "source": [
    "list=['shivani', 'praveen', 'foxtale', 'tulasi', 'assassin', 'prasad', 'sam', 'tam', 'pam', 'see', 'june']\n",
    "list1=[1,2,3,4,5,6,7,8,9,10]\n",
    "list.extend(list1)\n",
    "print(list)"
   ]
  },
  {
   "cell_type": "code",
   "execution_count": 5,
   "id": "476c48c6",
   "metadata": {},
   "outputs": [
    {
     "name": "stdout",
     "output_type": "stream",
     "text": [
      "Enter number of elements : 1 2 3\n"
     ]
    },
    {
     "ename": "ValueError",
     "evalue": "invalid literal for int() with base 10: '1 2 3'",
     "output_type": "error",
     "traceback": [
      "\u001b[1;31m---------------------------------------------------------------------------\u001b[0m",
      "\u001b[1;31mValueError\u001b[0m                                Traceback (most recent call last)",
      "Cell \u001b[1;32mIn[5], line 5\u001b[0m\n\u001b[0;32m      2\u001b[0m lst \u001b[38;5;241m=\u001b[39m []\n\u001b[0;32m      4\u001b[0m \u001b[38;5;66;03m# number of elements as input\u001b[39;00m\n\u001b[1;32m----> 5\u001b[0m n \u001b[38;5;241m=\u001b[39m \u001b[38;5;28mint\u001b[39m(\u001b[38;5;28minput\u001b[39m(\u001b[38;5;124m\"\u001b[39m\u001b[38;5;124mEnter number of elements : \u001b[39m\u001b[38;5;124m\"\u001b[39m))\n\u001b[0;32m      7\u001b[0m \u001b[38;5;66;03m# iterating till the range\u001b[39;00m\n\u001b[0;32m      8\u001b[0m \u001b[38;5;28;01mfor\u001b[39;00m i \u001b[38;5;129;01min\u001b[39;00m \u001b[38;5;28mrange\u001b[39m(\u001b[38;5;241m0\u001b[39m, n):\n",
      "\u001b[1;31mValueError\u001b[0m: invalid literal for int() with base 10: '1 2 3'"
     ]
    }
   ],
   "source": [
    "# creating an empty list\n",
    "lst = []\n",
    "\n",
    "# number of elements as input\n",
    "n = int(input(\"Enter number of elements : \"))\n",
    "\n",
    "# iterating till the range\n",
    "for i in range(0, n):\n",
    "    ele = int(input())\n",
    "# adding the element\n",
    "    lst.append(ele) \n",
    "\n",
    "print(lst)\n"
   ]
  },
  {
   "cell_type": "code",
   "execution_count": 4,
   "id": "add7cc41",
   "metadata": {},
   "outputs": [
    {
     "name": "stdout",
     "output_type": "stream",
     "text": [
      "enter values:1 2 3\n"
     ]
    },
    {
     "ename": "ValueError",
     "evalue": "invalid literal for int() with base 10: '1 2 3'",
     "output_type": "error",
     "traceback": [
      "\u001b[1;31m---------------------------------------------------------------------------\u001b[0m",
      "\u001b[1;31mValueError\u001b[0m                                Traceback (most recent call last)",
      "Cell \u001b[1;32mIn[4], line 2\u001b[0m\n\u001b[0;32m      1\u001b[0m \u001b[38;5;28mlist\u001b[39m\u001b[38;5;241m=\u001b[39m[]\n\u001b[1;32m----> 2\u001b[0m n\u001b[38;5;241m=\u001b[39m\u001b[38;5;28mint\u001b[39m(\u001b[38;5;28minput\u001b[39m(\u001b[38;5;124m\"\u001b[39m\u001b[38;5;124menter values:\u001b[39m\u001b[38;5;124m\"\u001b[39m))\n",
      "\u001b[1;31mValueError\u001b[0m: invalid literal for int() with base 10: '1 2 3'"
     ]
    }
   ],
   "source": [
    "list=[]\n",
    "n=int(input(\"enter values:\"))\n"
   ]
  },
  {
   "cell_type": "markdown",
   "id": "97044f06",
   "metadata": {},
   "source": [
    "# tuples"
   ]
  },
  {
   "cell_type": "code",
   "execution_count": 18,
   "id": "10addaac",
   "metadata": {},
   "outputs": [
    {
     "name": "stdout",
     "output_type": "stream",
     "text": [
      "('shivani', 'praveen', 'foxtale', 'tulasi', 'assassin', 'prasad', 'sam', 'tam', 'pam', 'see', 'june')\n",
      "<class 'tuple'>\n"
     ]
    }
   ],
   "source": [
    "# represented by (),\n",
    "# built in datatype,\n",
    "# ordered(defined order and will not change) \n",
    "# and unchangeable(cannot be changed like add, delete, remove)\n",
    "# allows duplicates\n",
    "#last value not considered\n",
    "# we use this datatype if we dont want any changes to be made \n",
    "#**********************************************************************************************************************\n",
    "\n",
    "#example:\n",
    "\n",
    "tuple=('shivani', 'praveen', 'foxtale', 'tulasi', 'assassin', 'prasad', 'sam', 'tam', 'pam', 'see', 'june')\n",
    "print(tuple)\n",
    "print(type(tuple))\n"
   ]
  },
  {
   "cell_type": "code",
   "execution_count": 19,
   "id": "2b816eea",
   "metadata": {},
   "outputs": [
    {
     "name": "stdout",
     "output_type": "stream",
     "text": [
      "11\n"
     ]
    }
   ],
   "source": [
    "len1=len((tuple))\n",
    "print(len1)"
   ]
  },
  {
   "cell_type": "code",
   "execution_count": 15,
   "id": "7da2cf71",
   "metadata": {},
   "outputs": [
    {
     "name": "stdout",
     "output_type": "stream",
     "text": [
      "(1, 2, 3, 4)\n"
     ]
    }
   ],
   "source": [
    "#length\n",
    "\n",
    "# print(len(tuple))\n",
    "\n",
    "#list to tuple\n",
    "list1=[1,2,3,4]\n",
    "l_tuple=tuple(list1)\n",
    "print(l_tuple)"
   ]
  },
  {
   "cell_type": "code",
   "execution_count": 12,
   "id": "47c2a64e",
   "metadata": {},
   "outputs": [
    {
     "name": "stdout",
     "output_type": "stream",
     "text": [
      "('shivani', 'sri')\n"
     ]
    }
   ],
   "source": [
    "list=[\"shivani\",\"sri\"]\n",
    "l1=tuple(list)\n",
    "print(l1)"
   ]
  },
  {
   "cell_type": "code",
   "execution_count": 7,
   "id": "220fb12f",
   "metadata": {},
   "outputs": [
    {
     "name": "stdout",
     "output_type": "stream",
     "text": [
      "('Compile', 'With', 'Favtutor')\n",
      "<class 'tuple'>\n"
     ]
    }
   ],
   "source": [
    "sample_list = ['Compile', 'With', 'Favtutor']\n",
    "\n",
    "#convert list into tuple\n",
    "tuple1 = tuple(sample_list)\n",
    "\n",
    "print(tuple1)\n",
    "print(type(tuple1))"
   ]
  },
  {
   "cell_type": "code",
   "execution_count": 8,
   "id": "87d9f914",
   "metadata": {},
   "outputs": [
    {
     "name": "stdout",
     "output_type": "stream",
     "text": [
      "\n",
      "Tuple with the use of function: \n",
      "('G', 'e', 'e', 'k', 's')\n"
     ]
    }
   ],
   "source": [
    "Tuple1 = tuple('Geeks')\n",
    "print(\"\\nTuple with the use of function: \")\n",
    "print(Tuple1)"
   ]
  },
  {
   "cell_type": "code",
   "execution_count": 6,
   "id": "83825244",
   "metadata": {},
   "outputs": [
    {
     "name": "stdout",
     "output_type": "stream",
     "text": [
      "(1, 2, 3, 4, 5)\n"
     ]
    }
   ],
   "source": [
    "# Create a list\n",
    "my_list = [1, 2, 3, 4, 5]\n",
    "\n",
    "# Convert the list to a tuple\n",
    "my_tuple = tuple(my_list)\n",
    "\n",
    "# Print the tuple\n",
    "print(my_tuple)\n"
   ]
  },
  {
   "cell_type": "code",
   "execution_count": 24,
   "id": "3bd8b48d",
   "metadata": {},
   "outputs": [
    {
     "name": "stdout",
     "output_type": "stream",
     "text": [
      "<class 'tuple'>\n",
      "<class 'str'>\n"
     ]
    }
   ],
   "source": [
    "# Create Tuple With One Item\n",
    "# To create a tuple with only one item, you have to add a comma after the item, \n",
    "# otherwise Python will not recognize it as a tuple.\n",
    "\n",
    "tup1=(\"sripadojwar\",)\n",
    "print(type(tup1))\n",
    "#not tuple\n",
    "tup2=(\"sripadojwar\")\n",
    "print(type(tup2))"
   ]
  },
  {
   "cell_type": "code",
   "execution_count": 26,
   "id": "93da7d27",
   "metadata": {},
   "outputs": [
    {
     "name": "stdout",
     "output_type": "stream",
     "text": [
      "('aas', 'dde', 'rty', True, False, 1, 2, 4)\n"
     ]
    }
   ],
   "source": [
    "# A tuple can contain different data types:\n",
    "\n",
    "tuple2=(\"aas\",\"dde\",\"rty\",True, False, 1,2,4)\n",
    "print(tuple2)"
   ]
  },
  {
   "cell_type": "code",
   "execution_count": 20,
   "id": "b9196d74",
   "metadata": {},
   "outputs": [
    {
     "ename": "TypeError",
     "evalue": "'tuple' object is not callable",
     "output_type": "error",
     "traceback": [
      "\u001b[1;31m---------------------------------------------------------------------------\u001b[0m",
      "\u001b[1;31mTypeError\u001b[0m                                 Traceback (most recent call last)",
      "Cell \u001b[1;32mIn[20], line 4\u001b[0m\n\u001b[0;32m      1\u001b[0m \u001b[38;5;66;03m# The tuple() Constructor\u001b[39;00m\n\u001b[0;32m      2\u001b[0m \u001b[38;5;66;03m# It is also possible to use the tuple() constructor to make a tuple.\u001b[39;00m\n\u001b[1;32m----> 4\u001b[0m new\u001b[38;5;241m=\u001b[39m\u001b[38;5;28mtuple\u001b[39m([\u001b[38;5;124m\"\u001b[39m\u001b[38;5;124mshivani\u001b[39m\u001b[38;5;124m\"\u001b[39m,\u001b[38;5;124m\"\u001b[39m\u001b[38;5;124mpraveen\u001b[39m\u001b[38;5;124m\"\u001b[39m,\u001b[38;5;124m\"\u001b[39m\u001b[38;5;124mtulasi\u001b[39m\u001b[38;5;124m\"\u001b[39m,\u001b[38;5;124m\"\u001b[39m\u001b[38;5;124mprasad\u001b[39m\u001b[38;5;124m\"\u001b[39m,\u001b[38;5;124m\"\u001b[39m\u001b[38;5;124msam\u001b[39m\u001b[38;5;124m\"\u001b[39m])\n\u001b[0;32m      5\u001b[0m \u001b[38;5;28mprint\u001b[39m(new)\n",
      "\u001b[1;31mTypeError\u001b[0m: 'tuple' object is not callable"
     ]
    }
   ],
   "source": [
    "# The tuple() Constructor\n",
    "# It is also possible to use the tuple() constructor to make a tuple.\n",
    "\n",
    "new=tuple([\"shivani\",\"praveen\",\"tulasi\",\"prasad\",\"sam\"])\n",
    "print(new)                  #have to check this"
   ]
  },
  {
   "cell_type": "code",
   "execution_count": 41,
   "id": "cc91d601",
   "metadata": {},
   "outputs": [
    {
     "name": "stdout",
     "output_type": "stream",
     "text": [
      "\n",
      "Tuple with nested tuples: \n",
      "((0, 1, 2, 3), ('python', 'geek'))\n"
     ]
    }
   ],
   "source": [
    "Tuple1 = (0, 1, 2, 3)\n",
    "Tuple2 = ('python', 'geek')\n",
    "Tuple3 = (Tuple1, Tuple2)\n",
    "print(\"\\nTuple with nested tuples: \")\n",
    "print(Tuple3)"
   ]
  },
  {
   "cell_type": "code",
   "execution_count": 34,
   "id": "cb632ed0",
   "metadata": {},
   "outputs": [
    {
     "name": "stdout",
     "output_type": "stream",
     "text": [
      "shivani\n"
     ]
    }
   ],
   "source": [
    "# access \n",
    "\n",
    "tuple=('shivani', 'praveen', 'foxtale', 'tulasi', 'assassin', 'prasad', 'sam', 'tam', 'pam', 'see', 'june')\n",
    "print(tuple[0])"
   ]
  },
  {
   "cell_type": "code",
   "execution_count": 35,
   "id": "0aada04e",
   "metadata": {},
   "outputs": [
    {
     "name": "stdout",
     "output_type": "stream",
     "text": [
      "assassin\n"
     ]
    }
   ],
   "source": [
    "# Slicing\n",
    "# negative indexing\n",
    "\n",
    "tuple=('shivani', 'praveen', 'foxtale', 'tulasi', 'assassin', 'prasad', 'sam', 'tam', 'pam', 'see', 'june')\n",
    "print(tuple[-7])"
   ]
  },
  {
   "cell_type": "code",
   "execution_count": 22,
   "id": "fa5d2279",
   "metadata": {},
   "outputs": [
    {
     "name": "stdout",
     "output_type": "stream",
     "text": [
      "('shivani', 'praveen', 'foxtale', 'tulasi', 'assassin', 'prasad')\n"
     ]
    }
   ],
   "source": [
    "# range\n",
    "tuple=('shivani', 'praveen', 'foxtale', 'tulasi', 'assassin', 'prasad', 'sam', 'tam', 'pam', 'see', 'june')\n",
    "print(tuple[0:6])"
   ]
  },
  {
   "cell_type": "code",
   "execution_count": 23,
   "id": "5cd90bdb",
   "metadata": {},
   "outputs": [
    {
     "name": "stdout",
     "output_type": "stream",
     "text": [
      "('sam', 'tam', 'pam')\n"
     ]
    }
   ],
   "source": [
    "tuple=('shivani', 'praveen', 'foxtale', 'tulasi', 'assassin', 'prasad', 'sam', 'tam', 'pam', 'see', 'june')\n",
    "print(tuple[-5:-2])"
   ]
  },
  {
   "cell_type": "code",
   "execution_count": 25,
   "id": "6585a8de",
   "metadata": {},
   "outputs": [
    {
     "name": "stdout",
     "output_type": "stream",
     "text": [
      "('prasad', 'sam', 'tam', 'pam', 'see')\n"
     ]
    }
   ],
   "source": [
    "# Define a tuple\n",
    "tuple_data = ('shivani', 'praveen', 'foxtale', 'tulasi', 'assassin', 'prasad', 'sam', 'tam', 'pam', 'see', 'june')\n",
    "\n",
    "# Perform slicing to get elements from index 5 up to, but not including, the last element\n",
    "subset_tuple = tuple_data[5:-1]\n",
    "\n",
    "# Print the subset tuple\n",
    "print(subset_tuple)\n"
   ]
  },
  {
   "cell_type": "code",
   "execution_count": 27,
   "id": "e7694908",
   "metadata": {},
   "outputs": [
    {
     "name": "stdout",
     "output_type": "stream",
     "text": [
      "()\n"
     ]
    }
   ],
   "source": [
    "# Slicing with a starting index greater than the stopping index results in an empty tuple being returned.\n",
    "print(tuple[-1:6])"
   ]
  },
  {
   "cell_type": "code",
   "execution_count": 5,
   "id": "acdb61c6",
   "metadata": {},
   "outputs": [
    {
     "name": "stdout",
     "output_type": "stream",
     "text": [
      "('praveen', 'foxtale', 'tulasi', 'assassin')\n"
     ]
    }
   ],
   "source": [
    "print(tuple[1:-6])"
   ]
  },
  {
   "cell_type": "code",
   "execution_count": 46,
   "id": "dccfae5d",
   "metadata": {},
   "outputs": [
    {
     "name": "stdout",
     "output_type": "stream",
     "text": [
      "yes\n"
     ]
    }
   ],
   "source": [
    "#check if items exist\n",
    "tuple=('shivani', 'praveen', 'foxtale', 'tulasi', 'assassin', 'prasad', 'sam', 'tam', 'pam', 'see', 'june')\n",
    "if \"shivani\" in tuple:\n",
    "    print(\"yes\")\n",
    "else:\n",
    "    print(\"no\")"
   ]
  },
  {
   "cell_type": "code",
   "execution_count": 49,
   "id": "108ae2ec",
   "metadata": {},
   "outputs": [
    {
     "ename": "TypeError",
     "evalue": "'tuple' object does not support item assignment",
     "output_type": "error",
     "traceback": [
      "\u001b[1;31m---------------------------------------------------------------------------\u001b[0m",
      "\u001b[1;31mTypeError\u001b[0m                                 Traceback (most recent call last)",
      "Cell \u001b[1;32mIn[49], line 4\u001b[0m\n\u001b[0;32m      1\u001b[0m \u001b[38;5;66;03m#changing values\u001b[39;00m\n\u001b[0;32m      3\u001b[0m \u001b[38;5;28mtuple\u001b[39m\u001b[38;5;241m=\u001b[39m(\u001b[38;5;124m'\u001b[39m\u001b[38;5;124mshivani\u001b[39m\u001b[38;5;124m'\u001b[39m, \u001b[38;5;124m'\u001b[39m\u001b[38;5;124mpraveen\u001b[39m\u001b[38;5;124m'\u001b[39m, \u001b[38;5;124m'\u001b[39m\u001b[38;5;124mfoxtale\u001b[39m\u001b[38;5;124m'\u001b[39m, \u001b[38;5;124m'\u001b[39m\u001b[38;5;124mtulasi\u001b[39m\u001b[38;5;124m'\u001b[39m, \u001b[38;5;124m'\u001b[39m\u001b[38;5;124massassin\u001b[39m\u001b[38;5;124m'\u001b[39m, \u001b[38;5;124m'\u001b[39m\u001b[38;5;124mprasad\u001b[39m\u001b[38;5;124m'\u001b[39m, \u001b[38;5;124m'\u001b[39m\u001b[38;5;124msam\u001b[39m\u001b[38;5;124m'\u001b[39m, \u001b[38;5;124m'\u001b[39m\u001b[38;5;124mtam\u001b[39m\u001b[38;5;124m'\u001b[39m, \u001b[38;5;124m'\u001b[39m\u001b[38;5;124mpam\u001b[39m\u001b[38;5;124m'\u001b[39m, \u001b[38;5;124m'\u001b[39m\u001b[38;5;124msee\u001b[39m\u001b[38;5;124m'\u001b[39m, \u001b[38;5;124m'\u001b[39m\u001b[38;5;124mjune\u001b[39m\u001b[38;5;124m'\u001b[39m)\n\u001b[1;32m----> 4\u001b[0m \u001b[38;5;28mtuple\u001b[39m[\u001b[38;5;241m0\u001b[39m]\u001b[38;5;241m=\u001b[39m\u001b[38;5;124m\"\u001b[39m\u001b[38;5;124msripadojwar\u001b[39m\u001b[38;5;124m\"\u001b[39m\n\u001b[0;32m      5\u001b[0m \u001b[38;5;28mprint\u001b[39m(\u001b[38;5;28mtuple\u001b[39m)\n",
      "\u001b[1;31mTypeError\u001b[0m: 'tuple' object does not support item assignment"
     ]
    }
   ],
   "source": [
    "#changing values\n",
    "\n",
    "tuple=('shivani', 'praveen', 'foxtale', 'tulasi', 'assassin', 'prasad', 'sam', 'tam', 'pam', 'see', 'june')\n",
    "tuple[0]=\"sripadojwar\"\n",
    "print(tuple)\n",
    "\n",
    "#error below suggests that we cannot change the values "
   ]
  },
  {
   "cell_type": "code",
   "execution_count": 29,
   "id": "e0f067be",
   "metadata": {},
   "outputs": [
    {
     "name": "stdout",
     "output_type": "stream",
     "text": [
      "('shivani', 'sripadojwar', 1, 2, 3, 4, 5)\n"
     ]
    }
   ],
   "source": [
    "#concatenation\n",
    "tuple1=(1,2,3,4,5)\n",
    "tuple2=(\"shivani\",\"sripadojwar\")\n",
    "tuple3=tuple2+tuple1\n",
    "print(tuple3)"
   ]
  },
  {
   "cell_type": "code",
   "execution_count": 31,
   "id": "0bdf07c6",
   "metadata": {},
   "outputs": [],
   "source": [
    "#deleting- part of it is not allowed since its immutable, so whole tuple can be deleted instead\n",
    "\n",
    "tuple1=(1,2,3,5)\n",
    "del tuple1\n",
    "# print(tuple1)"
   ]
  },
  {
   "cell_type": "code",
   "execution_count": 49,
   "id": "d81ffd22",
   "metadata": {},
   "outputs": [
    {
     "name": "stdout",
     "output_type": "stream",
     "text": [
      "[0, 1, 2, 3, 5, 6, 7, 9]\n",
      "[9, 7, 6, 5, 3, 2, 1, 0]\n"
     ]
    }
   ],
   "source": [
    "#sort\n",
    "tuple1=sorted([1,2,3,5,9,6,7,0])\n",
    "print(tuple1)\n",
    "#reverse\n",
    "tuple1=sorted([1,2,3,5,9,6,7,0], reverse=True)\n",
    "print(tuple1)"
   ]
  },
  {
   "cell_type": "code",
   "execution_count": 50,
   "id": "842468c8",
   "metadata": {},
   "outputs": [
    {
     "name": "stdout",
     "output_type": "stream",
     "text": [
      "['e', 'q', 'r', 't', 'w', 'y']\n",
      "['e', 'q', 'r', 't', 'w', 'y']\n",
      "['h', 'n', 'o', 'p', 't', 'y']\n",
      "['e', 'q', 'r', 't', 'w', 'y']\n",
      "['e', 'q', 'r', 't', 'w', 'y']\n",
      "['e', 'q', 'r', 't', 'w', 'y']\n"
     ]
    }
   ],
   "source": [
    "# List\n",
    "x = ['q', 'w', 'r', 'e', 't', 'y']\n",
    "print(sorted(x))\n",
    "\n",
    "# Tuple\n",
    "x = ('q', 'w', 'e', 'r', 't', 'y')\n",
    "print(sorted(x))\n",
    "\n",
    "# String-sorted based on ASCII translations\n",
    "x = \"python\"\n",
    "print(sorted(x))\n",
    "\n",
    "# Dictionary\n",
    "x = {'q': 1, 'w': 2, 'e': 3, 'r': 4, 't': 5, 'y': 6}\n",
    "print(sorted(x))\n",
    "\n",
    "# Set\n",
    "x = {'q', 'w', 'e', 'r', 't', 'y'}\n",
    "print(sorted(x))\n",
    "\n",
    "# Frozen Set\n",
    "x = frozenset(('q', 'w', 'e', 'r', 't', 'y'))\n",
    "print(sorted(x))\n"
   ]
  },
  {
   "cell_type": "code",
   "execution_count": 53,
   "id": "b8f573e1",
   "metadata": {},
   "outputs": [
    {
     "name": "stdout",
     "output_type": "stream",
     "text": [
      "['s', 'r', 'o', 'k', 'k', 'g', 'g', 'f', 'e', 'e', 'e', 'e']\n"
     ]
    }
   ],
   "source": [
    "str=\"geekforgeeks\"\n",
    "e=sorted(str,reverse=True) #descending order\n",
    "print(e)"
   ]
  },
  {
   "cell_type": "code",
   "execution_count": 60,
   "id": "2831a06f",
   "metadata": {},
   "outputs": [
    {
     "name": "stdout",
     "output_type": "stream",
     "text": [
      "The original string : geekforgeeks\n",
      "srokkggfeeee\n",
      "String after reverse sorting : srokkggfeeee\n"
     ]
    }
   ],
   "source": [
    "# Python3 code to demonstrate\n",
    "# Reverse Sort a String\n",
    "# using join() + sorted() + reverse\n",
    "# The characters of the string \"geekforgeeks\" are sorted in descending order, \n",
    "# resulting in ['s', 's', 'k', 'k', 'g', 'g', 'f', 'e', 'e', 'e', 'e'].\n",
    "# These sorted characters are then joined back into a single string with an empty string \n",
    "# '' between them\n",
    "# Finally, this sorted string is assigned to the variable res.\n",
    "\n",
    "# initializing string \n",
    "test_string = \"geekforgeeks\"\n",
    "\n",
    "# printing original string \n",
    "print(\"The original string : \" + test_string)\n",
    "\n",
    "# using join() + sorted() + reverse\n",
    "# Sorting a string \n",
    "res = ''.join(sorted(test_string, reverse = True))\n",
    "print(res)\n",
    "\n",
    "# print result\n",
    "print(\"String after reverse sorting : \" + res)\n"
   ]
  },
  {
   "cell_type": "code",
   "execution_count": 63,
   "id": "8625e893",
   "metadata": {},
   "outputs": [
    {
     "name": "stdout",
     "output_type": "stream",
     "text": [
      "(1, 2, 3, 4, 5, 6, 7, 8)\n"
     ]
    }
   ],
   "source": [
    "t1=(1,2,3,4)\n",
    "t2=(5,6,7,8)\n",
    "t3=sum((t1,t2),())\n",
    "print(t3)"
   ]
  },
  {
   "cell_type": "code",
   "execution_count": 32,
   "id": "da387210",
   "metadata": {},
   "outputs": [
    {
     "name": "stdout",
     "output_type": "stream",
     "text": [
      "(((1, 2, 3, 4), (5, 6, 7, 8)), ())\n"
     ]
    }
   ],
   "source": [
    "t1=(1,2,3,4)\n",
    "t2=(5,6,7,8)\n",
    "t3=((t1,t2),())\n",
    "print(t3)"
   ]
  },
  {
   "cell_type": "markdown",
   "id": "77d83352",
   "metadata": {},
   "source": [
    "# sets"
   ]
  },
  {
   "cell_type": "code",
   "execution_count": 69,
   "id": "dd1b25bd",
   "metadata": {},
   "outputs": [
    {
     "name": "stdout",
     "output_type": "stream",
     "text": [
      "{'c', 'b', 'a'}\n",
      "{'c', 'b', 'd', 'a'}\n"
     ]
    }
   ],
   "source": [
    "# unordered, iterable and mutable, NO DUPLICATES. Indexing is not possible & we cannot access items.\n",
    "\n",
    "# typecasting list to set\n",
    "myset = set([\"a\", \"b\", \"c\"])\n",
    "print(myset)\n",
    "\n",
    "# Adding element to the set\n",
    "myset.add(\"d\")\n",
    "print(myset)\n"
   ]
  },
  {
   "cell_type": "code",
   "execution_count": 70,
   "id": "e5a7413b",
   "metadata": {},
   "outputs": [
    {
     "data": {
      "text/plain": [
       "set"
      ]
     },
     "execution_count": 70,
     "metadata": {},
     "output_type": "execute_result"
    }
   ],
   "source": [
    "type(myset)"
   ]
  },
  {
   "cell_type": "code",
   "execution_count": 72,
   "id": "cfde6beb",
   "metadata": {},
   "outputs": [
    {
     "ename": "TypeError",
     "evalue": "'set' object does not support item assignment",
     "output_type": "error",
     "traceback": [
      "\u001b[1;31m---------------------------------------------------------------------------\u001b[0m",
      "\u001b[1;31mTypeError\u001b[0m                                 Traceback (most recent call last)",
      "Cell \u001b[1;32mIn[72], line 3\u001b[0m\n\u001b[0;32m      1\u001b[0m \u001b[38;5;66;03m#\u001b[39;00m\n\u001b[0;32m      2\u001b[0m s1\u001b[38;5;241m=\u001b[39m{\u001b[38;5;241m1\u001b[39m,\u001b[38;5;241m2\u001b[39m,\u001b[38;5;241m3\u001b[39m,\u001b[38;5;241m4\u001b[39m,\u001b[38;5;241m5\u001b[39m}\n\u001b[1;32m----> 3\u001b[0m s1[\u001b[38;5;241m3\u001b[39m]\u001b[38;5;241m=\u001b[39m\u001b[38;5;241m0\u001b[39m\n\u001b[0;32m      4\u001b[0m \u001b[38;5;28mprint\u001b[39m(s1)\n",
      "\u001b[1;31mTypeError\u001b[0m: 'set' object does not support item assignment"
     ]
    }
   ],
   "source": [
    "# once created we cannot change the items.\n",
    "s1={1,2,3,4,5}\n",
    "s1[3]=0\n",
    "print(s1)"
   ]
  },
  {
   "cell_type": "code",
   "execution_count": 73,
   "id": "0825b689",
   "metadata": {},
   "outputs": [
    {
     "name": "stdout",
     "output_type": "stream",
     "text": [
      "{True, 'Geeks', 52.7, 'for', 10}\n"
     ]
    }
   ],
   "source": [
    "#it can store any data types (heterogeneous elements)\n",
    "myset = {\"Geeks\", \"for\", 10, 52.7, True}\n",
    "print(myset)\n"
   ]
  },
  {
   "cell_type": "code",
   "execution_count": 37,
   "id": "9cde3e48",
   "metadata": {},
   "outputs": [
    {
     "name": "stdout",
     "output_type": "stream",
     "text": [
      "{1, 2, 3, 4, 5}\n",
      "frozenset({8, 6, 7})\n"
     ]
    }
   ],
   "source": [
    "#frozen set- we cannot change chars \n",
    "normal_set=set([1,2,3,4,5])\n",
    "print(normal_set)\n",
    "frozen_set=frozenset([6,7,8])\n",
    "print(frozen_set)"
   ]
  },
  {
   "cell_type": "code",
   "execution_count": 38,
   "id": "825b206f",
   "metadata": {},
   "outputs": [
    {
     "ename": "AttributeError",
     "evalue": "'frozenset' object has no attribute 'add'",
     "output_type": "error",
     "traceback": [
      "\u001b[1;31m---------------------------------------------------------------------------\u001b[0m",
      "\u001b[1;31mAttributeError\u001b[0m                            Traceback (most recent call last)",
      "Cell \u001b[1;32mIn[38], line 1\u001b[0m\n\u001b[1;32m----> 1\u001b[0m frozen_set\u001b[38;5;241m.\u001b[39madd(\u001b[38;5;124m\"\u001b[39m\u001b[38;5;124m00\u001b[39m\u001b[38;5;124m\"\u001b[39m)\n",
      "\u001b[1;31mAttributeError\u001b[0m: 'frozenset' object has no attribute 'add'"
     ]
    }
   ],
   "source": [
    "frozen_set.add(\"00\") #adding elements is not possible"
   ]
  },
  {
   "cell_type": "code",
   "execution_count": 40,
   "id": "2a103f64",
   "metadata": {},
   "outputs": [
    {
     "name": "stdout",
     "output_type": "stream",
     "text": [
      "{'krishna', 'radha', 'Sita', 'ram', 'shivani', 'preethi'}\n"
     ]
    }
   ],
   "source": [
    "#adding elements\n",
    "people={\"shivani\",\"preethi\",\"radha\",\"krishna\",\"ram\"}\n",
    "people.add(\"Sita\")\n",
    "print(people)"
   ]
  },
  {
   "cell_type": "code",
   "execution_count": 41,
   "id": "7131674b",
   "metadata": {},
   "outputs": [
    {
     "name": "stdout",
     "output_type": "stream",
     "text": [
      "krishna\n",
      "radha\n",
      "Sita\n",
      "ram\n",
      "shivani\n",
      "preethi\n"
     ]
    }
   ],
   "source": [
    "# for loop\n",
    "for i in people:\n",
    "    print(i)"
   ]
  },
  {
   "cell_type": "code",
   "execution_count": 42,
   "id": "ffd8a99c",
   "metadata": {},
   "outputs": [
    {
     "name": "stdout",
     "output_type": "stream",
     "text": [
      "yes!\n"
     ]
    }
   ],
   "source": [
    "#if element is present\n",
    "if \"radha\" in people:\n",
    "    print(\"yes!\")\n",
    "else:\n",
    "    print(\"no\")"
   ]
  },
  {
   "cell_type": "code",
   "execution_count": 44,
   "id": "89f27eda",
   "metadata": {},
   "outputs": [
    {
     "ename": "TypeError",
     "evalue": "'set' object cannot be interpreted as an integer",
     "output_type": "error",
     "traceback": [
      "\u001b[1;31m---------------------------------------------------------------------------\u001b[0m",
      "\u001b[1;31mTypeError\u001b[0m                                 Traceback (most recent call last)",
      "Cell \u001b[1;32mIn[44], line 1\u001b[0m\n\u001b[1;32m----> 1\u001b[0m \u001b[38;5;28;01mfor\u001b[39;00m i \u001b[38;5;129;01min\u001b[39;00m \u001b[38;5;28mrange\u001b[39m(people):\n\u001b[0;32m      2\u001b[0m     \u001b[38;5;28mprint\u001b[39m(i)\n",
      "\u001b[1;31mTypeError\u001b[0m: 'set' object cannot be interpreted as an integer"
     ]
    }
   ],
   "source": [
    "# range() expects an integer argument, not a set.\n",
    "for i in range(people):\n",
    "    print(i)"
   ]
  },
  {
   "cell_type": "code",
   "execution_count": 45,
   "id": "e0f06198",
   "metadata": {},
   "outputs": [
    {
     "name": "stdout",
     "output_type": "stream",
     "text": [
      "krishna\n",
      "radha\n",
      "Sita\n",
      "ram\n",
      "shivani\n",
      "preethi\n"
     ]
    }
   ],
   "source": [
    "for person in people:\n",
    "    print(person)\n"
   ]
  },
  {
   "cell_type": "code",
   "execution_count": 83,
   "id": "8f1182fe",
   "metadata": {},
   "outputs": [
    {
     "name": "stdout",
     "output_type": "stream",
     "text": [
      "0\n",
      "1\n",
      "2\n",
      "3\n",
      "4\n",
      "5\n",
      "6\n",
      "7\n",
      "8\n"
     ]
    }
   ],
   "source": [
    "for i in range(9):\n",
    "    print(i)"
   ]
  },
  {
   "cell_type": "code",
   "execution_count": 87,
   "id": "43f9b603",
   "metadata": {},
   "outputs": [
    {
     "name": "stdout",
     "output_type": "stream",
     "text": [
      "method1: {'yudishtir', 'krishna', 'draupadi', 'kunti', 'subhadra', 'arjun', 'radha', 'balram', 'bhishma'}\n",
      "method2: {'yudishtir', 'krishna', 'draupadi', 'kunti', 'subhadra', 'arjun', 'radha', 'balram', 'bhishma'}\n"
     ]
    }
   ],
   "source": [
    "# using union or | operator\n",
    "s1={\"krishna\",\"balram\",\"subhadra\",\"radha\"}\n",
    "s2={\"arjun\",\"yudishtir\",\"bhishma\",\"draupadi\",\"kunti\"}\n",
    "print(\"method1:\",s1.union(s2))\n",
    "print(\"method2:\",s1 | s2)"
   ]
  },
  {
   "cell_type": "code",
   "execution_count": 91,
   "id": "bf8ae6ac",
   "metadata": {},
   "outputs": [
    {
     "name": "stdout",
     "output_type": "stream",
     "text": [
      "method1: set()\n",
      "method2: set()\n",
      "ex-2: method1: {'balram'}\n",
      "ex-2: method2: {'balram'}\n"
     ]
    }
   ],
   "source": [
    "#using intersection or & operator\n",
    "s1={\"krishna\",\"balram\",\"subhadra\",\"radha\"}\n",
    "s2={\"arjun\",\"yudishtir\",\"bhishma\",\"draupadi\",\"kunti\"}\n",
    "print(\"method1:\",s1.intersection(s2))\n",
    "print(\"method2:\",s1 & s2)\n",
    "\n",
    "# example-2\n",
    "s1={\"krishna\",\"balram\",\"subhadra\",\"radha\",\"balram\"}\n",
    "s2={\"arjun\",\"yudishtir\",\"bhishma\",\"draupadi\",\"kunti\",\"balram\"}\n",
    "print(\"ex-2: method1:\",s1.intersection(s2))\n",
    "print(\"ex-2: method2:\",s1 & s2)\n"
   ]
  },
  {
   "cell_type": "code",
   "execution_count": 46,
   "id": "d3053c59",
   "metadata": {},
   "outputs": [
    {
     "name": "stdout",
     "output_type": "stream",
     "text": [
      "set1: {0, 1, 2, 3, 4}\n",
      "set2: {3, 4, 5}\n"
     ]
    }
   ],
   "source": [
    "#create set\n",
    "# set1.add(i), you are adding the value of the variable i to the set set1.\n",
    "set1=set()\n",
    "set2=set()\n",
    "for i in range(5):\n",
    "    set1.add(i)\n",
    "for i in range(3,6):\n",
    "    set2.add(i)\n",
    "print(\"set1:\", set1)\n",
    "print(\"set2:\", set2)\n",
    "    "
   ]
  },
  {
   "cell_type": "code",
   "execution_count": 3,
   "id": "677ba1d8",
   "metadata": {},
   "outputs": [
    {
     "name": "stdout",
     "output_type": "stream",
     "text": [
      "{0, 1, 2}\n",
      "{0, 1, 2}\n"
     ]
    }
   ],
   "source": [
    "#difference or -\n",
    "diff=set1.difference(set2)\n",
    "diff1=set1-set2\n",
    "print(diff)\n",
    "print(diff1)"
   ]
  },
  {
   "cell_type": "code",
   "execution_count": 7,
   "id": "5878034e",
   "metadata": {},
   "outputs": [
    {
     "name": "stdout",
     "output_type": "stream",
     "text": [
      "set()\n"
     ]
    }
   ],
   "source": [
    "#clearing \n",
    "set1={\"krishna\",\"balram\",\"subhadra\",\"radha\",\"balram\"}\n",
    "set1.clear()\n",
    "print(set1)"
   ]
  },
  {
   "cell_type": "code",
   "execution_count": 12,
   "id": "f5911314",
   "metadata": {},
   "outputs": [
    {
     "name": "stdout",
     "output_type": "stream",
     "text": [
      "{0, 1, 2, 3, 4, 5}\n"
     ]
    }
   ],
   "source": [
    "# update() method to combine the elements of set2 into set1. \n",
    "set1= {0, 1, 2, 3, 4}\n",
    "set2= {3, 4, 5}\n",
    "set1.update(set2)\n",
    "print(set1)"
   ]
  },
  {
   "cell_type": "code",
   "execution_count": 13,
   "id": "67d372fd",
   "metadata": {},
   "outputs": [
    {
     "name": "stdout",
     "output_type": "stream",
     "text": [
      "[0, 1, 2, 3, 4]\n"
     ]
    }
   ],
   "source": [
    "#list comprehension\n",
    "set1= {0, 1, 2, 3, 4}\n",
    "set2=list(set1)\n",
    "print(set2)"
   ]
  },
  {
   "cell_type": "code",
   "execution_count": 17,
   "id": "d094b4d2",
   "metadata": {},
   "outputs": [
    {
     "name": "stdout",
     "output_type": "stream",
     "text": [
      "{1, 2, 3, 4, 5, 6, 7, 8, 9, 10}\n"
     ]
    }
   ],
   "source": [
    "#add elements to the dict\n",
    "# number.update(num_Dict) effectively adds elements from the keys of the dictionary num_Dict into the set number.\n",
    "number = {1, 2, 3, 4, 5}\n",
    " \n",
    "num_Dict = {6: 'Six', 7: 'Seven', 8: 'Eight',\n",
    "            9: 'Nine', 10: 'Ten'}\n",
    "number.update(num_Dict)\n",
    "print(number)"
   ]
  },
  {
   "cell_type": "code",
   "execution_count": 22,
   "id": "00fc9e6b",
   "metadata": {},
   "outputs": [
    {
     "name": "stdout",
     "output_type": "stream",
     "text": [
      "{9, 10, 12, 13, 15}\n",
      "{10, 12, 13, 15}\n",
      "{12, 13, 15}\n",
      "{13, 15}\n",
      "{15}\n",
      "set()\n"
     ]
    }
   ],
   "source": [
    "#pop element with smallest value is removed first followed by removing in increasing order\n",
    "# Python program to remove elements from set\n",
    "# Using the pop() method\n",
    "def Remove(initial_set): #method remove\n",
    "    while initial_set:\n",
    "        initial_set.pop()\n",
    "        print(initial_set)\n",
    "\n",
    "# Driver Code\n",
    "initial_set = set([12, 10, 13, 15, 8, 9])\n",
    "Remove(initial_set)\n"
   ]
  },
  {
   "cell_type": "code",
   "execution_count": 21,
   "id": "8aaf570e",
   "metadata": {},
   "outputs": [
    {
     "name": "stdout",
     "output_type": "stream",
     "text": [
      "{9, 10, 12, 13, 15}\n",
      "{10, 12, 13, 15}\n",
      "{12, 13, 15}\n",
      "{13, 15}\n",
      "{15}\n",
      "set()\n"
     ]
    }
   ],
   "source": [
    "initial_set = set([12, 10, 13, 15, 8, 9])\n",
    "while initial_set:\n",
    "    initial_set.pop()\n",
    "    print(initial_set)"
   ]
  },
  {
   "cell_type": "code",
   "execution_count": 23,
   "id": "ec5096c3",
   "metadata": {},
   "outputs": [
    {
     "name": "stdout",
     "output_type": "stream",
     "text": [
      "{8, 9, 10, 12, 13}\n",
      "{8, 9, 10, 12}\n",
      "{8, 9, 10}\n",
      "{8, 9}\n",
      "{8}\n",
      "set()\n"
     ]
    }
   ],
   "source": [
    "# # initialize the set\n",
    "# Initialize a set my_set with the given elements.\n",
    "# Enter a loop that runs as long as there are elements in the set my_set.\n",
    "# Find the maximum element in the set using the max() function and remove it from the set using the discard() method.\n",
    "# Print the updated set after each removal.\n",
    "# Exit the loop when the set my_set becomes empty.\n",
    "\n",
    "my_set = set([12, 10, 13, 15, 8, 9])\n",
    "\n",
    "# remove elements one by one using discard() method\n",
    "while my_set:\n",
    "\tmy_set.discard(max(my_set))\n",
    "\tprint(my_set)\n"
   ]
  },
  {
   "cell_type": "code",
   "execution_count": 25,
   "id": "f3576ed7",
   "metadata": {},
   "outputs": [
    {
     "name": "stdout",
     "output_type": "stream",
     "text": [
      "{9, 10, 12, 13, 15}\n",
      "{10, 12, 13, 15}\n",
      "{12, 13, 15}\n",
      "{13, 15}\n",
      "{15}\n",
      "set()\n"
     ]
    }
   ],
   "source": [
    "my_set = set([12, 10, 13, 15, 8, 9])\n",
    "for i in range(len(my_set)):\n",
    "    my_set.remove(next(iter(my_set)))\n",
    "    print(my_set)"
   ]
  },
  {
   "cell_type": "code",
   "execution_count": 27,
   "id": "07b0e2aa",
   "metadata": {},
   "outputs": [
    {
     "name": "stdout",
     "output_type": "stream",
     "text": [
      "False\n",
      "True\n",
      "False\n"
     ]
    }
   ],
   "source": [
    "#element present\n",
    "# operators in and not in\n",
    "\n",
    "# create a set with integer elements\n",
    "data = {7058, 7059, 7072, 7074, 7076}\n",
    "\n",
    "print(7058 not in data)\n",
    "\n",
    "print(7059 in data)\n",
    "\n",
    "print(7071 in data)\n"
   ]
  },
  {
   "cell_type": "markdown",
   "id": "7bd91830",
   "metadata": {},
   "source": [
    "# dictionary"
   ]
  },
  {
   "cell_type": "code",
   "execution_count": 29,
   "id": "bfebe23e",
   "metadata": {},
   "outputs": [
    {
     "name": "stdout",
     "output_type": "stream",
     "text": [
      "{1: 'Geeks', 2: 'For', 3: 'Geeks'}\n"
     ]
    }
   ],
   "source": [
    "#it has a key and value, stores as a map, {}, any datatype, can be dulplicated, keys are not repeated, immutable.\n",
    "#keys are case sensitive\n",
    "Dict = {1: 'Geeks', 2: 'For', 3: 'Geeks'} \n",
    "print(Dict)\n"
   ]
  },
  {
   "cell_type": "code",
   "execution_count": 31,
   "id": "a8fb06ba",
   "metadata": {},
   "outputs": [
    {
     "name": "stdout",
     "output_type": "stream",
     "text": [
      "{1: 'shivani', 2: 'Bodhan', 'Age': 22}\n",
      "any dt {1: 'shivani', 2: [1, 2, 3, 4, 5], 'age': 23}\n"
     ]
    }
   ],
   "source": [
    "dict={1:\"shivani\",2:\"Bodhan\",\"Age\":22}\n",
    "print(dict)\n",
    "# any data types\n",
    "dict1={1:\"shivani\",2:[1,2,3,4,5],\"age\":23}\n",
    "print(\"any dt\",dict1)"
   ]
  },
  {
   "cell_type": "code",
   "execution_count": 32,
   "id": "126d68ab",
   "metadata": {},
   "outputs": [
    {
     "name": "stdout",
     "output_type": "stream",
     "text": [
      "{}\n"
     ]
    }
   ],
   "source": [
    "#buitl in dict can be created using dict={}\n",
    "dict={}\n",
    "print(dict)"
   ]
  },
  {
   "cell_type": "code",
   "execution_count": 35,
   "id": "bac83d85",
   "metadata": {},
   "outputs": [
    {
     "name": "stdout",
     "output_type": "stream",
     "text": [
      "{'name': {'first_name': 'shivani', 'last_name': 'sripadojwar'}, 'DOB': {'month': 'june', 'day': 7, 'year': 1999}, 'Address': {'street': 'svs colony', 'pincode': 0, 'State': 'telangana'}}\n"
     ]
    }
   ],
   "source": [
    "#nested dictionary\n",
    "details={\"name\": {\"first_name\":\"shivani\",\n",
    "                 \"last_name\":\"sripadojwar\"},\n",
    "        \"DOB\":{\"month\":\"june\",\"day\":7,\"year\":1999},\n",
    "        \"Address\":{\"street\":\"svs colony\", \"pincode\":000000, \"State\":\"telangana\"}}\n",
    "print(details)"
   ]
  },
  {
   "cell_type": "code",
   "execution_count": 64,
   "id": "87599e7f",
   "metadata": {},
   "outputs": [
    {
     "name": "stdout",
     "output_type": "stream",
     "text": [
      "{0: 111, 1: 'shivani', 2: 'eee', 4: 7.5, 5: [98, 79, 90, 93], 6: {'rank': {'number': 98, 'condition': 'pass'}}}\n"
     ]
    }
   ],
   "source": [
    "#adding elements to dict\n",
    "dict={}\n",
    "dict[0]=111\n",
    "dict[1]=\"shivani\"\n",
    "dict[2]=\"CSE\"\n",
    "dict[4]=7.5\n",
    "#adding multiple\n",
    "dict[5]=[98,79,90,93]\n",
    "#replace existing values\n",
    "dict[2]=\"eee\"\n",
    "#adding nested key value\n",
    "dict[6]={\"rank\":{\"number\": 98,\"condition\":\"pass\"}}\n",
    "print(dict)"
   ]
  },
  {
   "cell_type": "code",
   "execution_count": 44,
   "id": "d8fd09ba",
   "metadata": {},
   "outputs": [
    {
     "data": {
      "text/plain": [
       "111"
      ]
     },
     "execution_count": 44,
     "metadata": {},
     "output_type": "execute_result"
    }
   ],
   "source": [
    "#accessing element using key\n",
    "dict[0]"
   ]
  },
  {
   "cell_type": "code",
   "execution_count": 47,
   "id": "ec7b9277",
   "metadata": {},
   "outputs": [
    {
     "data": {
      "text/plain": [
       "{'rank': {'number': 98, 'condition': 'pass'}}"
      ]
     },
     "execution_count": 47,
     "metadata": {},
     "output_type": "execute_result"
    }
   ],
   "source": [
    "dict[6]"
   ]
  },
  {
   "cell_type": "code",
   "execution_count": 51,
   "id": "61109239",
   "metadata": {},
   "outputs": [
    {
     "data": {
      "text/plain": [
       "'eee'"
      ]
     },
     "execution_count": 51,
     "metadata": {},
     "output_type": "execute_result"
    }
   ],
   "source": [
    "dict.get(2)"
   ]
  },
  {
   "cell_type": "code",
   "execution_count": 60,
   "id": "3b6f6b49",
   "metadata": {},
   "outputs": [
    {
     "name": "stdout",
     "output_type": "stream",
     "text": [
      "98\n"
     ]
    }
   ],
   "source": [
    "#accessing element of nested dict\n",
    "dict={\"rank\":{\"number\": 98,\"condition\":\"pass\"}}\n",
    "print(dict['rank']['number'])"
   ]
  },
  {
   "cell_type": "code",
   "execution_count": 47,
   "id": "848f3a87",
   "metadata": {},
   "outputs": [
    {
     "name": "stdout",
     "output_type": "stream",
     "text": [
      "{1: 'Geeks'}\n",
      "Geeks\n",
      "sam\n"
     ]
    }
   ],
   "source": [
    "# Creating a Dictionary \n",
    "Dict = {\n",
    "    'Dict1': {1: 'Geeks'}, \n",
    "    'Dict2': {'Name': 'sam'}\n",
    "      } \n",
    "\n",
    "# Accessing element using key \n",
    "print(Dict['Dict1']) \n",
    "print(Dict['Dict1'][1]) \n",
    "print(Dict['Dict2']['Name']) \n"
   ]
  },
  {
   "cell_type": "code",
   "execution_count": 69,
   "id": "fc0034ea",
   "metadata": {},
   "outputs": [
    {
     "name": "stdout",
     "output_type": "stream",
     "text": [
      "{'name': 'For', 3: 'Geeks'}\n"
     ]
    }
   ],
   "source": [
    "# delete \n",
    "Dict = {1: 'Geeks', 'name': 'For', 3: 'Geeks'} \n",
    "del(Dict[1])\n",
    "print(Dict)"
   ]
  },
  {
   "cell_type": "code",
   "execution_count": 75,
   "id": "542831bc",
   "metadata": {},
   "outputs": [
    {
     "name": "stdout",
     "output_type": "stream",
     "text": [
      "{1: 'Geeks', 'name': 'For', 3: 'Geeks'}\n",
      "{1: 'Geeks', 'name': 'For', 3: 'Geeks'}\n"
     ]
    }
   ],
   "source": [
    "Dict = {1: 'Geeks', 'name': 'For', 3: 'Geeks'} \n",
    "dict0=Dict.copy()\n",
    "print(dict0)\n",
    "print(Dict)"
   ]
  },
  {
   "cell_type": "code",
   "execution_count": 76,
   "id": "f82eb879",
   "metadata": {},
   "outputs": [
    {
     "name": "stdout",
     "output_type": "stream",
     "text": [
      "dict_items([(0, 111), (1, 'shivani'), (2, 'eee'), (4, 7.5), (5, [98, 79, 90, 93]), (6, {'rank': {'number': 98, 'condition': 'pass'}})])\n"
     ]
    }
   ],
   "source": [
    "dict_items=dict.items()\n",
    "print(dict_items)"
   ]
  },
  {
   "cell_type": "code",
   "execution_count": 77,
   "id": "e71d6d1b",
   "metadata": {},
   "outputs": [
    {
     "name": "stdout",
     "output_type": "stream",
     "text": [
      "dict_keys([1, 'name', 3])\n"
     ]
    }
   ],
   "source": [
    "dict_keys=Dict.keys()\n",
    "print(dict_keys)"
   ]
  },
  {
   "cell_type": "code",
   "execution_count": 80,
   "id": "c48d1efb",
   "metadata": {},
   "outputs": [
    {
     "name": "stdout",
     "output_type": "stream",
     "text": [
      "{1: 'Python', 2: 'Java', 3: 'Ruby', 4: 'Scala'}\n",
      "{}\n",
      "Python\n",
      "dict_items([(1, 'Python'), (2, 'Java'), (3, 'Ruby'), (4, 'Scala')])\n",
      "dict_keys([1, 2, 3, 4])\n",
      "{1: 'Python', 2: 'Java', 3: 'Ruby'}\n",
      "{1: 'Python', 2: 'Java'}\n",
      "{1: 'Python', 2: 'Java', 3: 'Scala'}\n",
      "dict_values(['Python', 'Java', 'Scala'])\n"
     ]
    }
   ],
   "source": [
    "# demo for all dictionary methods \n",
    "dict1 = {1: \"Python\", 2: \"Java\", 3: \"Ruby\", 4: \"Scala\"} \n",
    "\n",
    "# copy() method \n",
    "dict2 = dict1.copy() \n",
    "print(dict2) \n",
    "\n",
    "# clear() method \n",
    "dict1.clear() \n",
    "print(dict1) \n",
    "\n",
    "# get() method \n",
    "print(dict2.get(1)) \n",
    "\n",
    "# items() method \n",
    "print(dict2.items()) \n",
    "\n",
    "# keys() method \n",
    "print(dict2.keys()) \n",
    "\n",
    "# pop() method \n",
    "dict2.pop(4) \n",
    "print(dict2) \n",
    "\n",
    "# popitem() method \n",
    "dict2.popitem() \n",
    "print(dict2) \n",
    "\n",
    "# update() method \n",
    "dict2.update({3: \"Scala\"}) \n",
    "print(dict2) \n",
    "\n",
    "# values() method \n",
    "print(dict2.values()) \n"
   ]
  },
  {
   "cell_type": "code",
   "execution_count": 85,
   "id": "e153865d",
   "metadata": {},
   "outputs": [
    {
     "name": "stdout",
     "output_type": "stream",
     "text": [
      "{'a': [1, 3], 'b': [2], 'c': [4]}\n"
     ]
    }
   ],
   "source": [
    "# Initialize an empty dictionary\n",
    "D = {} \n",
    "\n",
    "L = [['a', 1], ['b', 2], ['a', 3], ['c', 4]]\n",
    "\n",
    "# Loop to add key-value pair to dictionary\n",
    "\n",
    "for i in range(len(L)):\n",
    "# If the key is already present in dictionary then append the value to the list of values\n",
    "    if L[i][0] in D:\n",
    "        D[L[i][0]].append(L[i][1])\n",
    "\n",
    "# If the key is not present in the dictionary then add the key-value pair\n",
    "    else:\n",
    "        D[L[i][0]]= []\n",
    "        D[L[i][0]].append(L[i][1])\n",
    "\n",
    "print(D)\n"
   ]
  },
  {
   "cell_type": "code",
   "execution_count": 114,
   "id": "06796a86",
   "metadata": {},
   "outputs": [
    {
     "name": "stdout",
     "output_type": "stream",
     "text": [
      "3\n"
     ]
    },
    {
     "ename": "IndexError",
     "evalue": "list index out of range",
     "output_type": "error",
     "traceback": [
      "\u001b[1;31m---------------------------------------------------------------------------\u001b[0m",
      "\u001b[1;31mIndexError\u001b[0m                                Traceback (most recent call last)",
      "Cell \u001b[1;32mIn[114], line 14\u001b[0m\n\u001b[0;32m     12\u001b[0m     \u001b[38;5;28;01melse\u001b[39;00m:\n\u001b[0;32m     13\u001b[0m         D[L[i][\u001b[38;5;241m0\u001b[39m]]\u001b[38;5;241m=\u001b[39m []\n\u001b[1;32m---> 14\u001b[0m         D[L[i][\u001b[38;5;241m0\u001b[39m]]\u001b[38;5;241m.\u001b[39mappend(L[i][\u001b[38;5;241m1\u001b[39m])\n\u001b[0;32m     15\u001b[0m \u001b[38;5;28mprint\u001b[39m(D)\n",
      "\u001b[1;31mIndexError\u001b[0m: list index out of range"
     ]
    }
   ],
   "source": [
    "D = {} \n",
    "\n",
    "L = [['a', 1], ['b', 2], ['a', 3], ['c', 4]]\n",
    "\n",
    "# Loop to add key-value pair to dictionary\n",
    "\n",
    "for i in range(len(L)):\n",
    "# If the key is already present in dictionary then append the value to the list of values\n",
    "    if L[i][0] in D:\n",
    "        D[L[i][0]].append(L[i][1])\n",
    "        print(L[i][1])\n",
    "    else:\n",
    "        D[L[i][0]]= []\n",
    "        D[L[i][0]].append(L[i][1])\n",
    "print(D)"
   ]
  },
  {
   "cell_type": "code",
   "execution_count": 96,
   "id": "2f17cb6e",
   "metadata": {},
   "outputs": [
    {
     "name": "stdout",
     "output_type": "stream",
     "text": [
      "{0: 'Carrot', 1: 'Raddish', 2: 'Brinjal', 3: 'Potato', 4: 'bhendi', 5: 'aloo'}\n"
     ]
    }
   ],
   "source": [
    "#merging \n",
    "veg_dict = {0: 'Carrot', 1: 'Raddish', \n",
    "            2: 'Brinjal', 3: 'Potato'}\n",
    "veg_dict.update({4:\"bhendi\",5:\"aloo\"})\n",
    "print(veg_dict)"
   ]
  },
  {
   "cell_type": "code",
   "execution_count": 55,
   "id": "001546b7",
   "metadata": {},
   "outputs": [
    {
     "name": "stdout",
     "output_type": "stream",
     "text": [
      "{1: 'asd', 2: 'ghj', 3: 'yui', 4: 'okn', 5: 'tyr'}\n"
     ]
    }
   ],
   "source": [
    "#using two lists of same length \n",
    "a=[1,2,3,4,5]\n",
    "b=[\"asd\",\"ghj\",\"yui\",\"okn\",\"tyr\"]\n",
    "ab=dict(zip(a,b))\n",
    "print(ab)"
   ]
  },
  {
   "cell_type": "code",
   "execution_count": 56,
   "id": "ece5b146",
   "metadata": {},
   "outputs": [
    {
     "name": "stdout",
     "output_type": "stream",
     "text": [
      "<zip object at 0x000002A402A23B80>\n"
     ]
    }
   ],
   "source": [
    "roll_no = [10, 20, 30, 40, 50]\n",
    "names = ['Ramesh', 'Mahesh', 'Kamlesh', \n",
    "\t\t'Suresh', 'Dinesh']\n",
    "\n",
    "students = zip(roll_no, names)\n",
    "print(students)\n"
   ]
  },
  {
   "cell_type": "code",
   "execution_count": 57,
   "id": "96a1bc4e",
   "metadata": {},
   "outputs": [
    {
     "ename": "TypeError",
     "evalue": "'list' object is not callable",
     "output_type": "error",
     "traceback": [
      "\u001b[1;31m---------------------------------------------------------------------------\u001b[0m",
      "\u001b[1;31mTypeError\u001b[0m                                 Traceback (most recent call last)",
      "Cell \u001b[1;32mIn[57], line 1\u001b[0m\n\u001b[1;32m----> 1\u001b[0m students_list \u001b[38;5;241m=\u001b[39m \u001b[38;5;28mlist\u001b[39m(students)\n\u001b[0;32m      2\u001b[0m \u001b[38;5;28mprint\u001b[39m(students_list)\n",
      "\u001b[1;31mTypeError\u001b[0m: 'list' object is not callable"
     ]
    }
   ],
   "source": [
    "students_list = list(students)\n",
    "print(students_list)"
   ]
  },
  {
   "cell_type": "code",
   "execution_count": 101,
   "id": "e94581f2",
   "metadata": {},
   "outputs": [
    {
     "ename": "TypeError",
     "evalue": "'dict' object is not callable",
     "output_type": "error",
     "traceback": [
      "\u001b[1;31m---------------------------------------------------------------------------\u001b[0m",
      "\u001b[1;31mTypeError\u001b[0m                                 Traceback (most recent call last)",
      "Cell \u001b[1;32mIn[101], line 4\u001b[0m\n\u001b[0;32m      1\u001b[0m vegetables \u001b[38;5;241m=\u001b[39m [\u001b[38;5;124m'\u001b[39m\u001b[38;5;124mCarrot\u001b[39m\u001b[38;5;124m'\u001b[39m, \u001b[38;5;124m'\u001b[39m\u001b[38;5;124mRaddish\u001b[39m\u001b[38;5;124m'\u001b[39m, \n\u001b[0;32m      2\u001b[0m \t\t\t\u001b[38;5;124m'\u001b[39m\u001b[38;5;124mBrinjal\u001b[39m\u001b[38;5;124m'\u001b[39m, \u001b[38;5;124m'\u001b[39m\u001b[38;5;124mPotato\u001b[39m\u001b[38;5;124m'\u001b[39m]\n\u001b[1;32m----> 4\u001b[0m veg_dict \u001b[38;5;241m=\u001b[39m \u001b[38;5;28mdict\u001b[39m(\u001b[38;5;28menumerate\u001b[39m(vegetables))\n\u001b[0;32m      5\u001b[0m \u001b[38;5;28mprint\u001b[39m(veg_dict)\n",
      "\u001b[1;31mTypeError\u001b[0m: 'dict' object is not callable"
     ]
    }
   ],
   "source": [
    "vegetables = ['Carrot', 'Raddish', \n",
    "\t\t\t'Brinjal', 'Potato']\n",
    "\n",
    "veg_dict = dict(enumerate(vegetables))\n",
    "print(veg_dict)\n"
   ]
  },
  {
   "cell_type": "code",
   "execution_count": 102,
   "id": "c74c3414",
   "metadata": {},
   "outputs": [
    {
     "name": "stdout",
     "output_type": "stream",
     "text": [
      "{0: 'Carrot', 1: 'Raddish', 2: 'Brinjal', 3: 'Potato'}\n"
     ]
    }
   ],
   "source": [
    "#using merge operator\n",
    "veg1 = {0: 'Carrot', 1: 'Raddish'}\n",
    "veg2 = {2: 'Brinjal', 3: 'Potato'}\n",
    "\n",
    "veg_dict = (veg1 | veg2)\n",
    "print(veg_dict)\n"
   ]
  },
  {
   "cell_type": "code",
   "execution_count": 105,
   "id": "ca97a29f",
   "metadata": {},
   "outputs": [
    {
     "name": "stdout",
     "output_type": "stream",
     "text": [
      "{2: 'Brinjal', 3: 'Potato'}\n",
      "veg-1 {0: 'Carrot', 1: 'Raddish', 2: 'Brinjal', 3: 'Potato'}\n"
     ]
    }
   ],
   "source": [
    "veg1 = {0:'Carrot', 1:'Raddish'}\n",
    "veg2 = {2:'Brinjal', 3:'Potato'}\n",
    "\n",
    "veg1 |= veg2\n",
    "print(veg2)\n",
    "print(\"veg-1\",veg1)"
   ]
  },
  {
   "cell_type": "code",
   "execution_count": 49,
   "id": "8300b6e9",
   "metadata": {},
   "outputs": [
    {
     "name": "stdout",
     "output_type": "stream",
     "text": [
      "0 Carrot\n",
      "1 Raddish\n",
      "2 Brinjal\n",
      "3 Potato\n"
     ]
    }
   ],
   "source": [
    "veg1 = {0: 'Carrot', 1: 'Raddish', 2: 'Brinjal', 3: 'Potato'}\n",
    "for i in veg1:\n",
    "    print(i,veg1[i])\n"
   ]
  },
  {
   "cell_type": "code",
   "execution_count": 116,
   "id": "b3488d3f",
   "metadata": {},
   "outputs": [
    {
     "name": "stdout",
     "output_type": "stream",
     "text": [
      "[1, 2, 3, 4, 5, 6, 7, 8, 9]\n",
      "['Geeks', 'For', 'Geek']\n",
      "[1, 3, 4, 5, 6, 7, 8, 9]\n",
      "[1, 3, 4, 7, 8, 9]\n"
     ]
    }
   ],
   "source": [
    "my_list1 = [1, 2, 3, 4, 5, 6, 7, 8, 9] \n",
    "my_list2 =[\"Geeks\", \"For\", \"Geek\"] \n",
    "\n",
    "# check if my_list1 and my_list2 exists \n",
    "print(my_list1) \n",
    "print(my_list2) \n",
    "\n",
    "# delete second element of my_list1 \n",
    "del my_list1[1] \n",
    "\n",
    "# check if the second element in my_list1 is deleted \n",
    "print(my_list1) \n",
    "\n",
    "# slice my_list1 from index 3 to 5 \n",
    "del my_list1[3:5] \n",
    "\n",
    "# check if the elements from index 3 to 5 in my_list1 is deleted \n",
    "print(my_list1) \n",
    "\n",
    "# delete my_list2 \n",
    "del my_list2 \n"
   ]
  },
  {
   "cell_type": "code",
   "execution_count": null,
   "id": "992ff183",
   "metadata": {},
   "outputs": [],
   "source": []
  }
 ],
 "metadata": {
  "kernelspec": {
   "display_name": "Python 3 (ipykernel)",
   "language": "python",
   "name": "python3"
  },
  "language_info": {
   "codemirror_mode": {
    "name": "ipython",
    "version": 3
   },
   "file_extension": ".py",
   "mimetype": "text/x-python",
   "name": "python",
   "nbconvert_exporter": "python",
   "pygments_lexer": "ipython3",
   "version": "3.11.5"
  }
 },
 "nbformat": 4,
 "nbformat_minor": 5
}
